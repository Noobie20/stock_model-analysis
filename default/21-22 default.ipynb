{
 "cells": [
  {
   "cell_type": "code",
   "execution_count": 1,
   "metadata": {},
   "outputs": [],
   "source": [
    "import pandas as pd\n",
    "import yfinance as yf\n",
    "import datetime as dt\n",
    "import numpy as np\n",
    "import matplotlib.pyplot as plt\n",
    "import calendar"
   ]
  },
  {
   "cell_type": "code",
   "execution_count": 2,
   "metadata": {},
   "outputs": [],
   "source": [
    "plt.rcParams['axes.facecolor'] = 'bisque'"
   ]
  },
  {
   "cell_type": "markdown",
   "metadata": {},
   "source": [
    "# FO"
   ]
  },
  {
   "cell_type": "markdown",
   "metadata": {},
   "source": [
    "### Data collection:-\n",
    "\n",
    "<b>----26 July</b> \n",
    "\n",
    "From SRStockAlertBot (Free channel)\n",
    "\n",
    "<b>----30 Sept</b>\n",
    "\n",
    "From SRStockAlertBot_FnO (Paid channel)    +    4 alerts from SRStockAlertBot (not present in SRStockAlertBot_FnO)\n",
    "\n",
    "<b>----Current</b>"
   ]
  },
  {
   "cell_type": "code",
   "execution_count": 20,
   "metadata": {},
   "outputs": [],
   "source": [
    "dfcf = pd.read_excel('D:/Yash/Python Projects/tgm_stk_tkr/default/data/FnO.xlsx')"
   ]
  },
  {
   "cell_type": "code",
   "execution_count": 21,
   "metadata": {},
   "outputs": [
    {
     "data": {
      "text/plain": [
       "589"
      ]
     },
     "execution_count": 21,
     "metadata": {},
     "output_type": "execute_result"
    }
   ],
   "source": [
    "# total alerts\n",
    "total_alertsFO = dfcf.shape[0]\n",
    "total_alertsFO"
   ]
  },
  {
   "cell_type": "code",
   "execution_count": 22,
   "metadata": {},
   "outputs": [
    {
     "data": {
      "text/plain": [
       "419"
      ]
     },
     "execution_count": 22,
     "metadata": {},
     "output_type": "execute_result"
    }
   ],
   "source": [
    "# Total bullish alerts\n",
    "total_bullFO = dfcf[dfcf.Type=='Bullish'].shape[0]\n",
    "total_bullFO"
   ]
  },
  {
   "cell_type": "code",
   "execution_count": 23,
   "metadata": {},
   "outputs": [
    {
     "data": {
      "text/plain": [
       "170"
      ]
     },
     "execution_count": 23,
     "metadata": {},
     "output_type": "execute_result"
    }
   ],
   "source": [
    "#Total bearish alerts\n",
    "total_bearFO = dfcf[dfcf.Type=='Bearish'].shape[0]\n",
    "total_bearFO"
   ]
  },
  {
   "cell_type": "code",
   "execution_count": 24,
   "metadata": {},
   "outputs": [
    {
     "data": {
      "text/plain": [
       "21"
      ]
     },
     "execution_count": 24,
     "metadata": {},
     "output_type": "execute_result"
    }
   ],
   "source": [
    "#Total stagnant alerts\n",
    "StagnantFO = dfcf[dfcf.Result=='STAGNANT'].shape[0]\n",
    "StagnantFO"
   ]
  },
  {
   "cell_type": "code",
   "execution_count": 25,
   "metadata": {},
   "outputs": [
    {
     "data": {
      "text/plain": [
       "Bullish    19\n",
       "Bearish     2\n",
       "Name: Type, dtype: int64"
      ]
     },
     "execution_count": 25,
     "metadata": {},
     "output_type": "execute_result"
    }
   ],
   "source": [
    "dfcf[dfcf.Result=='STAGNANT'].Type.value_counts()"
   ]
  },
  {
   "cell_type": "markdown",
   "metadata": {},
   "source": [
    "#### removing OPEN alerts"
   ]
  },
  {
   "cell_type": "code",
   "execution_count": 26,
   "metadata": {},
   "outputs": [
    {
     "data": {
      "text/plain": [
       "(10, Int64Index([0, 1, 4, 55, 56, 57, 58, 62, 65, 66], dtype='int64'))"
      ]
     },
     "execution_count": 26,
     "metadata": {},
     "output_type": "execute_result"
    }
   ],
   "source": [
    "ons1 = dfcf[dfcf.Result=='ON'].index # Identify OPEN/ON alerts\n",
    "len(ons1), ons1 # all will be from current month"
   ]
  },
  {
   "cell_type": "code",
   "execution_count": 27,
   "metadata": {},
   "outputs": [
    {
     "data": {
      "text/plain": [
       "Bullish    8\n",
       "Bearish    2\n",
       "Name: Type, dtype: int64"
      ]
     },
     "execution_count": 27,
     "metadata": {},
     "output_type": "execute_result"
    }
   ],
   "source": [
    "on_count = dfcf.iloc[ons1, :].Type.value_counts()\n",
    "on_count"
   ]
  },
  {
   "cell_type": "code",
   "execution_count": 28,
   "metadata": {},
   "outputs": [
    {
     "data": {
      "text/plain": [
       "(579, 14)"
      ]
     },
     "execution_count": 28,
     "metadata": {},
     "output_type": "execute_result"
    }
   ],
   "source": [
    "dfcf.drop(ons1, axis=0, inplace=True) # Drop the ON alerts from analysis\n",
    "dfcf.shape"
   ]
  },
  {
   "cell_type": "markdown",
   "metadata": {},
   "source": [
    "### Target achieved v/s SL Hit chart"
   ]
  },
  {
   "cell_type": "markdown",
   "metadata": {},
   "source": [
    "#### 0.5 weightage to STAGNANT"
   ]
  },
  {
   "cell_type": "code",
   "execution_count": 56,
   "metadata": {},
   "outputs": [
    {
     "data": {
      "text/plain": [
       "(380, 178)"
      ]
     },
     "execution_count": 56,
     "metadata": {},
     "output_type": "execute_result"
    }
   ],
   "source": [
    "# Total Target achieved and SL Hit alerts\n",
    "TA = dfcf[dfcf['result dummy']=='Target achieved'].shape[0]\n",
    "SL = dfcf[dfcf['result dummy']=='SL Hit'].shape[0]\n",
    "TA, SL"
   ]
  },
  {
   "cell_type": "code",
   "execution_count": 57,
   "metadata": {},
   "outputs": [
    {
     "data": {
      "text/plain": [
       "21"
      ]
     },
     "execution_count": 57,
     "metadata": {},
     "output_type": "execute_result"
    }
   ],
   "source": [
    "# Total stagnant alerts\n",
    "StagnantFO"
   ]
  },
  {
   "cell_type": "code",
   "execution_count": 58,
   "metadata": {},
   "outputs": [
    {
     "data": {
      "text/plain": [
       "(2, 19)"
      ]
     },
     "execution_count": 58,
     "metadata": {},
     "output_type": "execute_result"
    }
   ],
   "source": [
    "# (+)ive & (-)ive STAGNANT alerts\n",
    "n1 = dfcf[(dfcf['result dummy']=='STAGNANT') & (dfcf.Type=='Bullish') & (dfcf['15DayClose']<dfcf.Price)].shape[0]\n",
    "p1 = dfcf[(dfcf['result dummy']=='STAGNANT') & (dfcf.Type=='Bullish') & (dfcf['15DayClose']>dfcf.Price)].shape[0]\n",
    "\n",
    "n2 = dfcf[(dfcf['result dummy']=='STAGNANT') & (dfcf.Type=='Bearish') & (dfcf['15DayClose']>dfcf.Price)].shape[0]\n",
    "p2 = dfcf[(dfcf['result dummy']=='STAGNANT') & (dfcf.Type=='Bearish') & (dfcf['15DayClose']<dfcf.Price)].shape[0]\n",
    "\n",
    "p = p1 + p2\n",
    "n = n1 + n2\n",
    "p,n"
   ]
  },
  {
   "cell_type": "code",
   "execution_count": 59,
   "metadata": {},
   "outputs": [
    {
     "data": {
      "text/plain": [
       "(381.0, 187.5)"
      ]
     },
     "execution_count": 59,
     "metadata": {},
     "output_type": "execute_result"
    }
   ],
   "source": [
    "# Weightage of 0.5 to TA & SL\n",
    "TA += p*0.5\n",
    "SL += n*0.5 \n",
    "TA, SL"
   ]
  },
  {
   "cell_type": "code",
   "execution_count": 60,
   "metadata": {},
   "outputs": [
    {
     "data": {
      "text/plain": [
       "{'Target achieved': 67.02, 'SL Hit': 32.98}"
      ]
     },
     "execution_count": 60,
     "metadata": {},
     "output_type": "execute_result"
    }
   ],
   "source": [
    "stat = {'Target achieved':round(TA/(TA+SL)*100, 2), 'SL Hit':round(SL/(TA+SL)*100,2)}\n",
    "stat"
   ]
  },
  {
   "cell_type": "code",
   "execution_count": 73,
   "metadata": {},
   "outputs": [
    {
     "data": {
      "text/plain": [
       "Text(0, 0.5, '%')"
      ]
     },
     "execution_count": 73,
     "metadata": {},
     "output_type": "execute_result"
    },
    {
     "data": {
      "image/png": "[encoded data removed]",
      "text/plain": [
       "<Figure size 648x432 with 1 Axes>"
      ]
     },
     "metadata": {
      "needs_background": "light"
     },
     "output_type": "display_data"
    }
   ],
   "source": [
    "plt.figure(figsize=(9,6))\n",
    "plt.bar(stat.keys(), stat.values(), color=['forestgreen','indianred'])\n",
    "\n",
    "for i,j in enumerate(stat):\n",
    "    plt.annotate(f\"{stat[j]}%\", xy=(i-0.1, stat[j]+0.5), xycoords='data', fontsize=15)\n",
    "    \n",
    "\n",
    "plt.yticks(fontweight='bold')\n",
    "plt.xticks(fontweight='bold')\n",
    "#plt.grid(axis='y', lw=0.8)\n",
    "plt.ylabel(ylabel='%', fontsize=20)"
   ]
  },
  {
   "cell_type": "markdown",
   "metadata": {},
   "source": [
    "### (T1-T3) intra comparison"
   ]
  },
  {
   "cell_type": "code",
   "execution_count": 35,
   "metadata": {},
   "outputs": [],
   "source": [
    "# TAstat = dfcf[dfcf.Result.isin(['T1','T2','T3'])].Result.value_counts(normalize=True) * 100\n",
    "# TAstat = TAstat.sort_index()\n",
    "\n",
    "# ax = plt.axes()\n",
    "\n",
    "# TAstat.plot(kind='bar', figsize=(10,6), color='deepskyblue')\n",
    "\n",
    "# for i,j in enumerate(TAstat.to_dict()):\n",
    "#     ax.annotate(f\"{round(TAstat[j], 2)}%\", xy=(i-0.1, TAstat[j]+0.25), xycoords='data', fontsize=15)\n",
    "\n",
    "# #plt.grid(axis='y', lw=0.5)\n",
    "# ax.set_xticklabels(labels=['% alerts that did not reach T2 & T3', 'T2','T3'])\n",
    "# plt.yticks(fontweight='bold')\n",
    "# plt.xticks(rotation=0, fontweight='bold')\n",
    "# plt.ylabel(ylabel='%', fontsize=20)"
   ]
  },
  {
   "cell_type": "markdown",
   "metadata": {},
   "source": [
    "### Avg NoD"
   ]
  },
  {
   "cell_type": "code",
   "execution_count": 36,
   "metadata": {},
   "outputs": [
    {
     "data": {
      "text/plain": [
       "5.7105263157894735"
      ]
     },
     "execution_count": 36,
     "metadata": {},
     "output_type": "execute_result"
    }
   ],
   "source": [
    "# Avg no. of days needed to reach the highest target\n",
    "FO_avg_nod = dfcf[dfcf['result dummy']=='Target achieved'].NoD.mean()\n",
    "FO_avg_nod"
   ]
  },
  {
   "cell_type": "markdown",
   "metadata": {},
   "source": [
    "### Bullish v/s Bearish alerts"
   ]
  },
  {
   "cell_type": "markdown",
   "metadata": {},
   "source": [
    "#### Bullish"
   ]
  },
  {
   "cell_type": "code",
   "execution_count": 37,
   "metadata": {},
   "outputs": [
    {
     "name": "stdout",
     "output_type": "stream",
     "text": [
      "411\n",
      "In actual 419, +8 that were removed as ON alerts\n"
     ]
    }
   ],
   "source": [
    "# Total bullish alerts\n",
    "bull = dfcf[dfcf.Type=='Bullish']\n",
    "print(bull.shape[0]) \n",
    "try:\n",
    "    print(f\"In actual {total_bullFO}, +{on_count['Bullish']} that were removed as ON alerts\")\n",
    "except:\n",
    "    print(f\"In actual {total_bullFO}\")"
   ]
  },
  {
   "cell_type": "code",
   "execution_count": 38,
   "metadata": {},
   "outputs": [
    {
     "data": {
      "text/plain": [
       "(265, 127)"
      ]
     },
     "execution_count": 38,
     "metadata": {},
     "output_type": "execute_result"
    }
   ],
   "source": [
    "# Total Target achieved and SL Hit alerts in bull df\n",
    "TA = bull[bull['result dummy']=='Target achieved'].shape[0]\n",
    "SL = bull[bull['result dummy']=='SL Hit'].shape[0]\n",
    "TA, SL"
   ]
  },
  {
   "cell_type": "code",
   "execution_count": 39,
   "metadata": {},
   "outputs": [
    {
     "data": {
      "text/plain": [
       "19"
      ]
     },
     "execution_count": 39,
     "metadata": {},
     "output_type": "execute_result"
    }
   ],
   "source": [
    "# Total stagnant alerts in Bullish alerts\n",
    "bull[bull['result dummy']=='STAGNANT'].shape[0]"
   ]
  },
  {
   "cell_type": "code",
   "execution_count": 40,
   "metadata": {},
   "outputs": [
    {
     "data": {
      "text/plain": [
       "(2, 17)"
      ]
     },
     "execution_count": 40,
     "metadata": {},
     "output_type": "execute_result"
    }
   ],
   "source": [
    "# (+)ive & (-)ive STAGNANT alerts in bull df\n",
    "n = bull[(bull['result dummy']=='STAGNANT') & (bull['15DayClose']<bull.Price)].shape[0]\n",
    "p = bull[(bull['result dummy']=='STAGNANT') & (bull['15DayClose']>bull.Price)].shape[0]\n",
    "p,n"
   ]
  },
  {
   "cell_type": "code",
   "execution_count": 41,
   "metadata": {},
   "outputs": [
    {
     "data": {
      "text/plain": [
       "(266.0, 135.5)"
      ]
     },
     "execution_count": 41,
     "metadata": {},
     "output_type": "execute_result"
    }
   ],
   "source": [
    "# Weightage of 0.5 to TA & SL\n",
    "TA += p*0.5\n",
    "SL += n*0.5 \n",
    "TA, SL"
   ]
  },
  {
   "cell_type": "code",
   "execution_count": 42,
   "metadata": {},
   "outputs": [
    {
     "data": {
      "text/plain": [
       "{'Target achieved': 66.25, 'SL Hit': 33.75}"
      ]
     },
     "execution_count": 42,
     "metadata": {},
     "output_type": "execute_result"
    }
   ],
   "source": [
    "stat = {'Target achieved':round(TA/(TA+SL)*100, 2), 'SL Hit':round(SL/(TA+SL)*100,2)}\n",
    "stat"
   ]
  },
  {
   "cell_type": "code",
   "execution_count": 43,
   "metadata": {
    "scrolled": false
   },
   "outputs": [
    {
     "data": {
      "text/plain": [
       "Text(0, 0.5, '%')"
      ]
     },
     "execution_count": 43,
     "metadata": {},
     "output_type": "execute_result"
    },
    {
     "data": {
      "image/png": "[encoded data removed]",
      "text/plain": [
       "<Figure size 648x432 with 1 Axes>"
      ]
     },
     "metadata": {
      "needs_background": "light"
     },
     "output_type": "display_data"
    }
   ],
   "source": [
    "plt.figure(figsize=(9,6))\n",
    "plt.bar(stat.keys(), stat.values(), color=['forestgreen','indianred'])\n",
    "\n",
    "for i,j in enumerate(stat):\n",
    "    plt.annotate(f\"{stat[j]}%\", xy=(i-0.1, stat[j]+0.5), xycoords='data', fontsize=15)\n",
    "    \n",
    "\n",
    "plt.yticks(fontweight='bold')\n",
    "plt.xticks(fontweight='bold')\n",
    "#plt.grid(axis='y', lw=0.8)\n",
    "plt.ylabel(ylabel='%', fontsize=20)"
   ]
  },
  {
   "cell_type": "markdown",
   "metadata": {},
   "source": [
    "#### Bearish"
   ]
  },
  {
   "cell_type": "code",
   "execution_count": 44,
   "metadata": {},
   "outputs": [
    {
     "name": "stdout",
     "output_type": "stream",
     "text": [
      "168\n",
      "In actual 170, +2 that were removed as ON alerts\n"
     ]
    }
   ],
   "source": [
    "# Total bearish alerts\n",
    "bear = dfcf[dfcf.Type=='Bearish']\n",
    "print(bear.shape[0])\n",
    "try:\n",
    "    print(f\"In actual {total_bearFO}, +{on_count['Bearish']} that were removed as ON alerts\")\n",
    "except:\n",
    "    print(f\"In actual {total_bearFO}\")"
   ]
  },
  {
   "cell_type": "code",
   "execution_count": 45,
   "metadata": {},
   "outputs": [
    {
     "data": {
      "text/plain": [
       "(115, 51)"
      ]
     },
     "execution_count": 45,
     "metadata": {},
     "output_type": "execute_result"
    }
   ],
   "source": [
    "# Total Target achieved and SL Hit alerts in bear df\n",
    "TA = bear[bear['result dummy']=='Target achieved'].shape[0]\n",
    "SL = bear[bear['result dummy']=='SL Hit'].shape[0]\n",
    "TA, SL"
   ]
  },
  {
   "cell_type": "code",
   "execution_count": 46,
   "metadata": {},
   "outputs": [
    {
     "data": {
      "text/plain": [
       "2"
      ]
     },
     "execution_count": 46,
     "metadata": {},
     "output_type": "execute_result"
    }
   ],
   "source": [
    "# Total stagnant alerts in bearish alerts\n",
    "bear[bear['result dummy']=='STAGNANT'].shape[0]"
   ]
  },
  {
   "cell_type": "code",
   "execution_count": 47,
   "metadata": {},
   "outputs": [
    {
     "data": {
      "text/plain": [
       "(0, 2)"
      ]
     },
     "execution_count": 47,
     "metadata": {},
     "output_type": "execute_result"
    }
   ],
   "source": [
    "# (+)ive & (-)ive STAGNANT alerts in bear df\n",
    "n = bear[(bear['result dummy']=='STAGNANT') & (bear['15DayClose']>bear.Price)].shape[0]\n",
    "p = bear[(bear['result dummy']=='STAGNANT') & (bear['15DayClose']<bear.Price)].shape[0]\n",
    "p,n"
   ]
  },
  {
   "cell_type": "code",
   "execution_count": 48,
   "metadata": {},
   "outputs": [
    {
     "data": {
      "text/plain": [
       "(115.0, 52.0)"
      ]
     },
     "execution_count": 48,
     "metadata": {},
     "output_type": "execute_result"
    }
   ],
   "source": [
    "# Weightage of 0.5 to TA & SL\n",
    "TA += p*0.5\n",
    "SL += n*0.5 \n",
    "TA, SL"
   ]
  },
  {
   "cell_type": "code",
   "execution_count": 49,
   "metadata": {},
   "outputs": [
    {
     "data": {
      "text/plain": [
       "{'Target achieved': 68.86, 'SL Hit': 31.14}"
      ]
     },
     "execution_count": 49,
     "metadata": {},
     "output_type": "execute_result"
    }
   ],
   "source": [
    "stat = {'Target achieved':round(TA/(TA+SL)*100, 2), 'SL Hit':round(SL/(TA+SL)*100,2)}\n",
    "stat"
   ]
  },
  {
   "cell_type": "code",
   "execution_count": 50,
   "metadata": {},
   "outputs": [
    {
     "data": {
      "text/plain": [
       "Text(0, 0.5, '%')"
      ]
     },
     "execution_count": 50,
     "metadata": {},
     "output_type": "execute_result"
    },
    {
     "data": {
      "image/png": "[encoded data removed]",
      "text/plain": [
       "<Figure size 648x432 with 1 Axes>"
      ]
     },
     "metadata": {
      "needs_background": "light"
     },
     "output_type": "display_data"
    }
   ],
   "source": [
    "plt.figure(figsize=(9,6))\n",
    "plt.bar(stat.keys(), stat.values(), color=['forestgreen','indianred'])\n",
    "\n",
    "for i,j in enumerate(stat):\n",
    "    plt.annotate(f\"{stat[j]}%\", xy=(i-0.1, stat[j]+0.5), xycoords='data', fontsize=15)\n",
    "    \n",
    "\n",
    "plt.yticks(fontweight='bold')\n",
    "plt.xticks(fontweight='bold')\n",
    "#plt.grid(axis='y', lw=0.8)\n",
    "plt.ylabel(ylabel='%', fontsize=20)"
   ]
  },
  {
   "cell_type": "markdown",
   "metadata": {},
   "source": [
    "## Monthly Analysis"
   ]
  },
  {
   "cell_type": "code",
   "execution_count": 51,
   "metadata": {},
   "outputs": [],
   "source": [
    "dfm = dfcf.sort_values(by='Date').set_index('Date')"
   ]
  },
  {
   "cell_type": "code",
   "execution_count": 52,
   "metadata": {},
   "outputs": [],
   "source": [
    "months = []\n",
    "mos = pd.Series(dfm.index.to_numpy().astype('datetime64[M]')).unique()\n",
    "for mo in mos:\n",
    "    months.append(dt.datetime.date(pd.to_datetime(mo)).strftime(format=\"%b%y\"))"
   ]
  },
  {
   "cell_type": "code",
   "execution_count": 53,
   "metadata": {},
   "outputs": [],
   "source": [
    "monthly_stats = []\n",
    "monthlyTA_stats = []\n",
    "monthly_alerts = []\n",
    "for i in months:\n",
    "    month = dt.datetime.strptime(i, \"%b%y\").month                                               # current_month\n",
    "    year = dt.datetime.strptime(i, \"%b%y\").year                                                 # current_year\n",
    "    end = calendar.monthrange(year, month)[1]                      \n",
    "    current_month = dfm.loc[f\"{year}-{month}-01\":f\"{year}-{month}-{end}\"]                  # get that month's df\n",
    "    \n",
    "    monthly_alerts.append(current_month.shape[0])                                   # total alerts in current month\n",
    "    \n",
    "    # Total Target achieved and SL Hit alerts in current month\n",
    "    TA = current_month[current_month['result dummy']=='Target achieved'].shape[0]\n",
    "    SL = current_month[current_month['result dummy']=='SL Hit'].shape[0]\n",
    "    \n",
    "    # (+)ive & (-)ive STAGNANT alerts\n",
    "    n1 = current_month[(current_month['result dummy']=='STAGNANT') & (current_month.Type=='Bullish') & (current_month['15DayClose']<current_month.Price)].shape[0]\n",
    "    p1 = current_month[(current_month['result dummy']=='STAGNANT') & (current_month.Type=='Bullish') & (current_month['15DayClose']>current_month.Price)].shape[0]\n",
    "\n",
    "    n2 = current_month[(current_month['result dummy']=='STAGNANT') & (current_month.Type=='Bearish') & (current_month['15DayClose']>current_month.Price)].shape[0]\n",
    "    p2 = current_month[(current_month['result dummy']=='STAGNANT') & (current_month.Type=='Bearish') & (current_month['15DayClose']<current_month.Price)].shape[0]\n",
    "\n",
    "    p = p1 + p2\n",
    "    n = n1 + n2\n",
    "\n",
    "    TA += p*0.5\n",
    "    SL += n*0.5 \n",
    "    current_stat = {'Target achieved':round(TA/(TA+SL)*100, 2), 'SL Hit':round(SL/(TA+SL)*100,2)}\n",
    "    monthly_stats.append(current_stat)\n",
    "    \n",
    "#     TAstat = current_month[current_month.Result.isin(['T1','T2','T3'])].Result.value_counts(normalize=True) * 100\n",
    "#     if len(TAstat.index)<3:\n",
    "#         y = ['T1','T2','T3']\n",
    "#         TAstat[list(set(y).difference(set(TAstat.index)))[0]] = 0.0\n",
    "#     TAstat = TAstat.sort_index()\n",
    "#     monthlyTA_stats.append(TAstat)"
   ]
  },
  {
   "cell_type": "markdown",
   "metadata": {},
   "source": [
    "### Line chart"
   ]
  },
  {
   "cell_type": "code",
   "execution_count": 54,
   "metadata": {},
   "outputs": [],
   "source": [
    "line_data = ([x['Target achieved'] for x in monthly_stats]), ([x['SL Hit'] for x in monthly_stats])"
   ]
  },
  {
   "cell_type": "code",
   "execution_count": 55,
   "metadata": {},
   "outputs": [],
   "source": [
    "# Including month of july \n",
    "fig, ax = plt.subplots(figsize=(10,6))\n",
    "ax.set_facecolor('white')\n",
    "\n",
    "ax.plot(months, line_data[0], marker='o', color='darkgreen')\n",
    "ax.plot(months, line_data[1], marker='o', color='red')\n",
    "ax.grid(axis='y', lw=0.25)\n",
    "#ax.set_ylim(0, 100)\n",
    "ax.set_title(f'Totals alerts in {months[-1]}: {monthly_alerts[-1] + len(ons1)}; OPEN alerts: {len(ons1)}')\n",
    "\n",
    "for i,j in enumerate(line_data[0]):\n",
    "    ax.annotate(s=f'{round(j,2)}', xy=(i-0.1, j+1), xycoords='data', fontsize=11, color='darkgreen')\n",
    "    \n",
    "for i,j in enumerate(line_data[1]):\n",
    "    ax.annotate(s=f'{round(j,2)}', xy=(i-0.1, j-3), xycoords='data', fontsize=11, color='red')\n",
    "\n",
    "ax.legend(['Target achieved %', 'SL Hit %'], loc='best', facecolor='white')\n",
    "ax.set_xticklabels(labels = months, fontweight='bold')\n",
    "ax.set_ylabel('Target & SL Hit in %', fontsize=16)\n",
    "\n",
    "ax2 = ax.twinx()\n",
    "ax2.plot(months, monthly_alerts, marker='o')\n",
    "ax2.set_ylabel('No. of alerts', fontsize=14, rotation=-90, labelpad=13)\n",
    "ax2.legend(labels=['# of closed alerts'], loc='best', bbox_to_anchor=(0.993, 0.899), facecolor='white')\n",
    "\n",
    "for i,j in enumerate(monthly_alerts):\n",
    "    ax2.annotate(s=j, xy=(i+0.1, j+1), xycoords='data', fontsize=11, color='blue')"
   ]
  },
  {
   "cell_type": "code",
   "execution_count": 39,
   "metadata": {
    "scrolled": false
   },
   "outputs": [],
   "source": [
    "# fig, ax = plt.subplots(figsize=(10,7))\n",
    "# ax.set_facecolor('white')\n",
    "\n",
    "# ax.plot(months, np.array(monthlyTA_stats)[:, 0], marker='o', color='darkgreen')\n",
    "# ax.plot(months, np.array(monthlyTA_stats)[:, 1], marker='o', color='saddlebrown')\n",
    "# ax.plot(months, np.array(monthlyTA_stats)[:, 2], marker='o', color='darkslategrey')\n",
    "# ax.grid(axis='y', lw=0.3)\n",
    "# #ax.set_ylim(0, 100)\n",
    "\n",
    "# for i,j in enumerate(np.array(monthlyTA_stats)):\n",
    "#     ax.annotate(s=f'{round(j[0],2)}', xy=(i-0.1, j[0]+1), xycoords='data', fontsize=11, color='darkgreen')\n",
    "#     ax.annotate(s=f'{round(j[1],2)}', xy=(i-0.1, j[1]+1), xycoords='data', fontsize=11, color='saddlebrown')    \n",
    "#     ax.annotate(s=f'{round(j[2],2)}', xy=(i-0.1, j[2]+1), xycoords='data', fontsize=11, color='darkslategrey')  \n",
    "    \n",
    "# ax.legend(['% alerts that did not hit T2 & T3', 'T2', 'T3'], loc='best', facecolor='white')\n",
    "# ax.set_xticklabels(labels = months, fontweight='bold')\n",
    "# ax.set_ylabel('alerts that hit T1/T2/T3 in % of Total Target achieved', fontsize=12)"
   ]
  },
  {
   "cell_type": "markdown",
   "metadata": {},
   "source": [
    "# NCASH"
   ]
  },
  {
   "cell_type": "markdown",
   "metadata": {},
   "source": [
    "### Data collection:-\n",
    "\n",
    "<b>----01 Oct</b> \n",
    "\n",
    "From SRStockAlertBot (Free channel)\n",
    "\n",
    "<b>----Current</b>"
   ]
  },
  {
   "cell_type": "code",
   "execution_count": 40,
   "metadata": {},
   "outputs": [],
   "source": [
    "dfcn = pd.read_excel('D:/Yash/Python Projects/tgm_stk_tkr/default/data/NCASH.xlsx')"
   ]
  },
  {
   "cell_type": "code",
   "execution_count": 41,
   "metadata": {},
   "outputs": [
    {
     "data": {
      "text/plain": [
       "129"
      ]
     },
     "execution_count": 41,
     "metadata": {},
     "output_type": "execute_result"
    }
   ],
   "source": [
    "# total alerts\n",
    "total_alertsNC = dfcn.shape[0]\n",
    "total_alertsNC"
   ]
  },
  {
   "cell_type": "code",
   "execution_count": 42,
   "metadata": {},
   "outputs": [
    {
     "data": {
      "text/plain": [
       "129"
      ]
     },
     "execution_count": 42,
     "metadata": {},
     "output_type": "execute_result"
    }
   ],
   "source": [
    "# Total bullish alerts\n",
    "total_bullNC = dfcn[dfcn.Type=='Bullish'].shape[0]\n",
    "total_bullNC"
   ]
  },
  {
   "cell_type": "code",
   "execution_count": 43,
   "metadata": {},
   "outputs": [
    {
     "data": {
      "text/plain": [
       "0"
      ]
     },
     "execution_count": 43,
     "metadata": {},
     "output_type": "execute_result"
    }
   ],
   "source": [
    "#Total bearish alerts\n",
    "total_bearNC = dfcn[dfcn.Type=='Bearish'].shape[0]\n",
    "total_bearNC"
   ]
  },
  {
   "cell_type": "code",
   "execution_count": 44,
   "metadata": {},
   "outputs": [
    {
     "data": {
      "text/plain": [
       "5"
      ]
     },
     "execution_count": 44,
     "metadata": {},
     "output_type": "execute_result"
    }
   ],
   "source": [
    "#Total stagnant alerts\n",
    "StagnantNC = dfcn[dfcn.Result=='STAGNANT'].shape[0]\n",
    "StagnantNC"
   ]
  },
  {
   "cell_type": "code",
   "execution_count": 45,
   "metadata": {},
   "outputs": [
    {
     "data": {
      "text/plain": [
       "Bullish    5\n",
       "Name: Type, dtype: int64"
      ]
     },
     "execution_count": 45,
     "metadata": {},
     "output_type": "execute_result"
    }
   ],
   "source": [
    "dfcn[dfcn.Result=='STAGNANT'].Type.value_counts()"
   ]
  },
  {
   "cell_type": "markdown",
   "metadata": {},
   "source": [
    "#### removing OPEN alerts"
   ]
  },
  {
   "cell_type": "code",
   "execution_count": 46,
   "metadata": {},
   "outputs": [
    {
     "data": {
      "text/plain": [
       "(1, Int64Index([0], dtype='int64'))"
      ]
     },
     "execution_count": 46,
     "metadata": {},
     "output_type": "execute_result"
    }
   ],
   "source": [
    "ons2 = dfcn[dfcn.Result=='ON'].index # Identify OPEN/ON alerts\n",
    "len(ons2), ons2 # all will be from current month"
   ]
  },
  {
   "cell_type": "code",
   "execution_count": 47,
   "metadata": {},
   "outputs": [
    {
     "data": {
      "text/plain": [
       "Bullish    1\n",
       "Name: Type, dtype: int64"
      ]
     },
     "execution_count": 47,
     "metadata": {},
     "output_type": "execute_result"
    }
   ],
   "source": [
    "on_count = dfcn.iloc[ons2, :].Type.value_counts()\n",
    "on_count"
   ]
  },
  {
   "cell_type": "code",
   "execution_count": 48,
   "metadata": {},
   "outputs": [
    {
     "data": {
      "text/plain": [
       "(128, 14)"
      ]
     },
     "execution_count": 48,
     "metadata": {},
     "output_type": "execute_result"
    }
   ],
   "source": [
    "dfcn.drop(ons2, axis=0, inplace=True) # Drop the ON alerts from analysis\n",
    "dfcn.shape"
   ]
  },
  {
   "cell_type": "markdown",
   "metadata": {},
   "source": [
    "### Target achieved v/s SL Hit chart"
   ]
  },
  {
   "cell_type": "markdown",
   "metadata": {},
   "source": [
    "#### 0.5 weightage to STAGNANT"
   ]
  },
  {
   "cell_type": "code",
   "execution_count": 49,
   "metadata": {},
   "outputs": [
    {
     "data": {
      "text/plain": [
       "(84, 39)"
      ]
     },
     "execution_count": 49,
     "metadata": {},
     "output_type": "execute_result"
    }
   ],
   "source": [
    "# Total Target achieved and SL Hit alerts\n",
    "TA = dfcn[dfcn['result dummy']=='Target achieved'].shape[0]\n",
    "SL = dfcn[dfcn['result dummy']=='SL Hit'].shape[0]\n",
    "TA, SL"
   ]
  },
  {
   "cell_type": "code",
   "execution_count": 50,
   "metadata": {},
   "outputs": [
    {
     "data": {
      "text/plain": [
       "5"
      ]
     },
     "execution_count": 50,
     "metadata": {},
     "output_type": "execute_result"
    }
   ],
   "source": [
    "# Total stagnant alerts\n",
    "StagnantNC"
   ]
  },
  {
   "cell_type": "code",
   "execution_count": 51,
   "metadata": {},
   "outputs": [
    {
     "data": {
      "text/plain": [
       "(2, 3)"
      ]
     },
     "execution_count": 51,
     "metadata": {},
     "output_type": "execute_result"
    }
   ],
   "source": [
    "# (+)ive & (-)ive STAGNANT alerts\n",
    "n1 = dfcn[(dfcn['result dummy']=='STAGNANT') & (dfcn.Type=='Bullish') & (dfcn['15DayClose']<dfcn.Price)].shape[0]\n",
    "p1 = dfcn[(dfcn['result dummy']=='STAGNANT') & (dfcn.Type=='Bullish') & (dfcn['15DayClose']>dfcn.Price)].shape[0]\n",
    "\n",
    "n2 = dfcn[(dfcn['result dummy']=='STAGNANT') & (dfcn.Type=='Bearish') & (dfcn['15DayClose']>dfcn.Price)].shape[0]\n",
    "p2 = dfcn[(dfcn['result dummy']=='STAGNANT') & (dfcn.Type=='Bearish') & (dfcn['15DayClose']<dfcn.Price)].shape[0]\n",
    "\n",
    "p = p1 + p2\n",
    "n = n1 + n2\n",
    "p,n"
   ]
  },
  {
   "cell_type": "code",
   "execution_count": 52,
   "metadata": {},
   "outputs": [
    {
     "data": {
      "text/plain": [
       "(85.0, 40.5)"
      ]
     },
     "execution_count": 52,
     "metadata": {},
     "output_type": "execute_result"
    }
   ],
   "source": [
    "# Weightage of 0.5 to TA & SL\n",
    "TA += p*0.5\n",
    "SL += n*0.5 \n",
    "TA, SL"
   ]
  },
  {
   "cell_type": "code",
   "execution_count": 53,
   "metadata": {},
   "outputs": [
    {
     "data": {
      "text/plain": [
       "{'Target achieved': 67.73, 'SL Hit': 32.27}"
      ]
     },
     "execution_count": 53,
     "metadata": {},
     "output_type": "execute_result"
    }
   ],
   "source": [
    "stat = {'Target achieved':round(TA/(TA+SL)*100, 2), 'SL Hit':round(SL/(TA+SL)*100,2)}\n",
    "stat"
   ]
  },
  {
   "cell_type": "code",
   "execution_count": 54,
   "metadata": {},
   "outputs": [
    {
     "data": {
      "text/plain": [
       "Text(0, 0.5, '%')"
      ]
     },
     "execution_count": 54,
     "metadata": {},
     "output_type": "execute_result"
    },
    {
     "data": {
      "image/png": "[encoded data removed]",
      "text/plain": [
       "<Figure size 648x432 with 1 Axes>"
      ]
     },
     "metadata": {
      "needs_background": "light"
     },
     "output_type": "display_data"
    }
   ],
   "source": [
    "plt.figure(figsize=(9,6))\n",
    "plt.bar(stat.keys(), stat.values(), color=['forestgreen','indianred'])\n",
    "\n",
    "for i,j in enumerate(stat):\n",
    "    plt.annotate(f\"{stat[j]}%\", xy=(i-0.1, stat[j]+0.5), xycoords='data', fontsize=15)\n",
    "    \n",
    "\n",
    "plt.yticks(fontweight='bold')\n",
    "plt.xticks(fontweight='bold')\n",
    "#plt.grid(axis='y', lw=0.8)\n",
    "plt.ylabel(ylabel='%', fontsize=20)"
   ]
  },
  {
   "cell_type": "markdown",
   "metadata": {},
   "source": [
    "#### (T1-T3) intra comparison"
   ]
  },
  {
   "cell_type": "code",
   "execution_count": 55,
   "metadata": {},
   "outputs": [],
   "source": [
    "# TAstat = dfcn[dfcn.Result.isin(['T1','T2','T3'])].Result.value_counts(normalize=True) * 100\n",
    "# TAstat = TAstat.sort_index()\n",
    "\n",
    "# ax = plt.axes()\n",
    "\n",
    "# TAstat.plot(kind='bar', figsize=(10,6), color='deepskyblue')\n",
    "\n",
    "# for i,j in enumerate(TAstat.to_dict()):\n",
    "#     ax.annotate(f\"{round(TAstat[j], 2)}%\", xy=(i-0.1, TAstat[j]+0.25), xycoords='data', fontsize=15)\n",
    "\n",
    "# #plt.grid(axis='y', lw=0.5)\n",
    "# ax.set_xticklabels(labels=['% alerts that did not reach T2 & T3', 'T2','T3'])\n",
    "# plt.yticks(fontweight='bold')\n",
    "# plt.xticks(rotation=0, fontweight='bold')\n",
    "# plt.ylabel(ylabel='%', fontsize=20)"
   ]
  },
  {
   "cell_type": "markdown",
   "metadata": {},
   "source": [
    "### Avg NoD"
   ]
  },
  {
   "cell_type": "code",
   "execution_count": 56,
   "metadata": {},
   "outputs": [
    {
     "data": {
      "text/plain": [
       "5.095238095238095"
      ]
     },
     "execution_count": 56,
     "metadata": {},
     "output_type": "execute_result"
    }
   ],
   "source": [
    "# Avg no. of days needed to hit T1\n",
    "dfcn[dfcn['result dummy']=='Target achieved'].NoD.mean()"
   ]
  },
  {
   "cell_type": "markdown",
   "metadata": {},
   "source": [
    "### Bullish v/s Bearish alerts"
   ]
  },
  {
   "cell_type": "markdown",
   "metadata": {},
   "source": [
    "#### Bullish"
   ]
  },
  {
   "cell_type": "code",
   "execution_count": 57,
   "metadata": {},
   "outputs": [
    {
     "name": "stdout",
     "output_type": "stream",
     "text": [
      "128\n",
      "In actual 129, +1 that were removed as ON alerts\n"
     ]
    }
   ],
   "source": [
    "# Total bullish alerts\n",
    "bull = dfcn[dfcn.Type=='Bullish']\n",
    "print(bull.shape[0])\n",
    "try:\n",
    "    print(f\"In actual {total_bullNC}, +{on_count['Bullish']} that were removed as ON alerts\")\n",
    "except:\n",
    "    print(f\"In actual {total_bullNC}\")"
   ]
  },
  {
   "cell_type": "code",
   "execution_count": 58,
   "metadata": {},
   "outputs": [
    {
     "data": {
      "text/plain": [
       "(84, 39)"
      ]
     },
     "execution_count": 58,
     "metadata": {},
     "output_type": "execute_result"
    }
   ],
   "source": [
    "# Total Target achieved and SL Hit alerts in bull df\n",
    "TA = bull[bull['result dummy']=='Target achieved'].shape[0]\n",
    "SL = bull[bull['result dummy']=='SL Hit'].shape[0]\n",
    "TA, SL"
   ]
  },
  {
   "cell_type": "code",
   "execution_count": 59,
   "metadata": {},
   "outputs": [
    {
     "data": {
      "text/plain": [
       "5"
      ]
     },
     "execution_count": 59,
     "metadata": {},
     "output_type": "execute_result"
    }
   ],
   "source": [
    "# Total stagnant alerts in Bullish alerts\n",
    "bull[bull['result dummy']=='STAGNANT'].shape[0]"
   ]
  },
  {
   "cell_type": "code",
   "execution_count": 60,
   "metadata": {},
   "outputs": [
    {
     "data": {
      "text/plain": [
       "(2, 3)"
      ]
     },
     "execution_count": 60,
     "metadata": {},
     "output_type": "execute_result"
    }
   ],
   "source": [
    "# (+)ive & (-)ive STAGNANT alerts in bull df\n",
    "n = bull[(bull['result dummy']=='STAGNANT') & (bull['15DayClose']<bull.Price)].shape[0]\n",
    "p = bull[(bull['result dummy']=='STAGNANT') & (bull['15DayClose']>bull.Price)].shape[0]\n",
    "p, n"
   ]
  },
  {
   "cell_type": "code",
   "execution_count": 61,
   "metadata": {},
   "outputs": [
    {
     "data": {
      "text/plain": [
       "(85.0, 40.5)"
      ]
     },
     "execution_count": 61,
     "metadata": {},
     "output_type": "execute_result"
    }
   ],
   "source": [
    "# Weightage of 0.5 to TA & SL\n",
    "TA += p*0.5\n",
    "SL += n*0.5 \n",
    "TA, SL"
   ]
  },
  {
   "cell_type": "code",
   "execution_count": 62,
   "metadata": {},
   "outputs": [
    {
     "data": {
      "text/plain": [
       "{'Target achieved': 67.73, 'SL Hit': 32.27}"
      ]
     },
     "execution_count": 62,
     "metadata": {},
     "output_type": "execute_result"
    }
   ],
   "source": [
    "stat = {'Target achieved':round(TA/(TA+SL)*100, 2), 'SL Hit':round(SL/(TA+SL)*100,2)}\n",
    "stat"
   ]
  },
  {
   "cell_type": "code",
   "execution_count": 63,
   "metadata": {},
   "outputs": [
    {
     "data": {
      "text/plain": [
       "Text(0, 0.5, '%')"
      ]
     },
     "execution_count": 63,
     "metadata": {},
     "output_type": "execute_result"
    },
    {
     "data": {
      "image/png": "[encoded data removed]",
      "text/plain": [
       "<Figure size 648x432 with 1 Axes>"
      ]
     },
     "metadata": {
      "needs_background": "light"
     },
     "output_type": "display_data"
    }
   ],
   "source": [
    "plt.figure(figsize=(9,6))\n",
    "plt.bar(stat.keys(), stat.values(), color=['forestgreen','indianred'])\n",
    "\n",
    "for i,j in enumerate(stat):\n",
    "    plt.annotate(f\"{stat[j]}%\", xy=(i-0.1, stat[j]+0.5), xycoords='data', fontsize=15)\n",
    "    \n",
    "\n",
    "plt.yticks(fontweight='bold')\n",
    "plt.xticks(fontweight='bold')\n",
    "#plt.grid(axis='y', lw=0.8)\n",
    "plt.ylabel(ylabel='%', fontsize=20)"
   ]
  },
  {
   "cell_type": "markdown",
   "metadata": {},
   "source": [
    "#### Bearish"
   ]
  },
  {
   "cell_type": "code",
   "execution_count": 64,
   "metadata": {},
   "outputs": [
    {
     "data": {
      "text/plain": [
       "(0, 14)"
      ]
     },
     "execution_count": 64,
     "metadata": {},
     "output_type": "execute_result"
    }
   ],
   "source": [
    "# No bearish alerts generated in Cash_N500 segement\n",
    "bear = dfcn[dfcn.Type=='Bearish']\n",
    "bear.shape"
   ]
  },
  {
   "cell_type": "markdown",
   "metadata": {},
   "source": [
    "## Monthly Analysis"
   ]
  },
  {
   "cell_type": "code",
   "execution_count": 65,
   "metadata": {},
   "outputs": [],
   "source": [
    "dfm = dfcn.sort_values(by='Date').set_index('Date')"
   ]
  },
  {
   "cell_type": "code",
   "execution_count": 66,
   "metadata": {},
   "outputs": [],
   "source": [
    "months = []\n",
    "mos = pd.Series(dfm.index.to_numpy().astype('datetime64[M]')).unique()\n",
    "for mo in mos:\n",
    "    months.append(dt.datetime.date(pd.to_datetime(mo)).strftime(format=\"%b%y\"))"
   ]
  },
  {
   "cell_type": "code",
   "execution_count": 67,
   "metadata": {},
   "outputs": [],
   "source": [
    "monthly_stats = []\n",
    "monthlyTA_stats = []\n",
    "monthly_alerts = []\n",
    "for i in months:\n",
    "    month = dt.datetime.strptime(i, \"%b%y\").month                                               # current_month\n",
    "    year = dt.datetime.strptime(i, \"%b%y\").year                                                 # current_year\n",
    "    end = calendar.monthrange(year, month)[1]                      \n",
    "    current_month = dfm.loc[f\"{year}-{month}-01\":f\"{year}-{month}-{end}\"]                  # get that month's df\n",
    "    \n",
    "    monthly_alerts.append(current_month.shape[0])                                   # total alerts in current month\n",
    "    \n",
    "    # Total Target achieved and SL Hit alerts in current month\n",
    "    TA = current_month[current_month['result dummy']=='Target achieved'].shape[0]\n",
    "    SL = current_month[current_month['result dummy']=='SL Hit'].shape[0]\n",
    "    \n",
    "    # (+)ive & (-)ive STAGNANT alerts\n",
    "    n1 = current_month[(current_month['result dummy']=='STAGNANT') & (current_month.Type=='Bullish') & (current_month['15DayClose']<current_month.Price)].shape[0]\n",
    "    p1 = current_month[(current_month['result dummy']=='STAGNANT') & (current_month.Type=='Bullish') & (current_month['15DayClose']>current_month.Price)].shape[0]\n",
    "\n",
    "    n2 = current_month[(current_month['result dummy']=='STAGNANT') & (current_month.Type=='Bearish') & (current_month['15DayClose']>current_month.Price)].shape[0]\n",
    "    p2 = current_month[(current_month['result dummy']=='STAGNANT') & (current_month.Type=='Bearish') & (current_month['15DayClose']<current_month.Price)].shape[0]\n",
    "\n",
    "    p = p1 + p2\n",
    "    n = n1 + n2\n",
    "    \n",
    "    # Weightage of 0.5 to TA & SL\n",
    "    TA += p*0.5\n",
    "    SL += n*0.5 \n",
    "    \n",
    "    current_stat = {'Target achieved':round(TA/(TA+SL)*100, 2), 'SL Hit':round(SL/(TA+SL)*100,2)}\n",
    "    monthly_stats.append(current_stat)\n",
    "    \n",
    "#     TAstat = current_month[current_month.Result.isin(['T1','T2','T3'])].Result.value_counts(normalize=True) * 100\n",
    "#     if len(TAstat.index)<3:\n",
    "#         y = ['T1','T2','T3']\n",
    "#         TAstat[list(set(y).difference(set(TAstat.index)))[0]] = 0.0\n",
    "#     TAstat = TAstat.sort_index()\n",
    "#     monthlyTA_stats.append(TAstat)"
   ]
  },
  {
   "cell_type": "markdown",
   "metadata": {},
   "source": [
    "### Line chart"
   ]
  },
  {
   "cell_type": "code",
   "execution_count": 68,
   "metadata": {},
   "outputs": [],
   "source": [
    "line_data = ([x['Target achieved'] for x in monthly_stats]), ([x['SL Hit'] for x in monthly_stats])"
   ]
  },
  {
   "cell_type": "code",
   "execution_count": 69,
   "metadata": {},
   "outputs": [
    {
     "data": {
      "image/png": "[encoded data removed]",
      "text/plain": [
       "<Figure size 720x432 with 2 Axes>"
      ]
     },
     "metadata": {
      "needs_background": "light"
     },
     "output_type": "display_data"
    }
   ],
   "source": [
    "fig, ax = plt.subplots(figsize=(10,6))\n",
    "ax.set_facecolor('white')\n",
    "\n",
    "ax.plot(months, line_data[0], marker='o', color='darkgreen')\n",
    "ax.plot(months, line_data[1], marker='o', color='red')\n",
    "ax.grid(axis='y', lw=0.25)\n",
    "#ax.set_ylim(0, 100)\n",
    "ax.set_title(f'Totals alerts in {months[-1]}: {monthly_alerts[-1] + len(ons2)}; OPEN alerts: {len(ons2)}')\n",
    "\n",
    "for i,j in enumerate(line_data[0]):\n",
    "    ax.annotate(s=f'{round(j,2)}', xy=(i, j), xycoords='data', fontsize=11, color='darkgreen')\n",
    "    \n",
    "for i,j in enumerate(line_data[1]):\n",
    "    ax.annotate(s=f'{round(j,2)}', xy=(i-0.1, j-3), xycoords='data', fontsize=11, color='red')\n",
    "\n",
    "ax.legend(['Target achieved %', 'SL Hit %'], loc='center left', facecolor='white')\n",
    "ax.set_xticklabels(labels = months, fontweight='bold')\n",
    "ax.set_ylabel('Target & SL Hit in %', fontsize=16)\n",
    "\n",
    "ax2 = ax.twinx()\n",
    "ax2.plot(months, monthly_alerts, marker='o')\n",
    "ax2.set_ylabel('No. of alerts', fontsize=14, rotation=-90, labelpad=13)\n",
    "ax2.legend(labels=['# of closed alerts'], loc='upper center', facecolor='white')\n",
    "\n",
    "for i,j in enumerate(monthly_alerts):\n",
    "    ax2.annotate(s=j, xy=(i, j+0.4), xycoords='data', fontsize=11, color='blue')"
   ]
  },
  {
   "cell_type": "code",
   "execution_count": 70,
   "metadata": {
    "scrolled": false
   },
   "outputs": [],
   "source": [
    "# fig, ax = plt.subplots(figsize=(10,7))\n",
    "# ax.set_facecolor('white')\n",
    "\n",
    "# ax.plot(months, np.array(monthlyTA_stats)[:, 0], marker='o', color='darkgreen')\n",
    "# ax.plot(months, np.array(monthlyTA_stats)[:, 1], marker='o', color='saddlebrown')\n",
    "# ax.plot(months, np.array(monthlyTA_stats)[:, 2], marker='o', color='darkslategrey')\n",
    "# ax.grid(axis='y', lw=0.3)\n",
    "# #ax.set_ylim(0, 100)\n",
    "\n",
    "# for i,j in enumerate(np.array(monthlyTA_stats)):\n",
    "#     ax.annotate(s=f'{round(j[0],2)}', xy=(i-0.1, j[0]+1), xycoords='data', fontsize=11, color='darkgreen')\n",
    "#     ax.annotate(s=f'{round(j[1],2)}', xy=(i-0.1, j[1]+1), xycoords='data', fontsize=11, color='saddlebrown')    \n",
    "#     ax.annotate(s=f'{round(j[2],2)}', xy=(i-0.1, j[2]+1), xycoords='data', fontsize=11, color='darkslategrey')  \n",
    "    \n",
    "# ax.legend(['% alerts that did not hit T2 & T3', 'T2', 'T3'], loc='upper right', bbox_to_anchor=(1, 0.3), facecolor='white')\n",
    "# ax.set_xticklabels(labels = months, fontweight='bold')\n",
    "# ax.set_ylabel('alerts that hit T1/T2/T3 in % of Total Target achieved', fontsize=12)"
   ]
  },
  {
   "cell_type": "markdown",
   "metadata": {},
   "source": [
    "# NCASH_Other"
   ]
  },
  {
   "cell_type": "code",
   "execution_count": 71,
   "metadata": {},
   "outputs": [],
   "source": [
    "dfno = pd.read_excel('D:/Yash/Python Projects/tgm_stk_tkr/default/data/NCASH_Other.xlsx')"
   ]
  },
  {
   "cell_type": "code",
   "execution_count": 72,
   "metadata": {},
   "outputs": [
    {
     "data": {
      "text/plain": [
       "95"
      ]
     },
     "execution_count": 72,
     "metadata": {},
     "output_type": "execute_result"
    }
   ],
   "source": [
    "# total alerts\n",
    "total_alertsNO = dfno.shape[0]\n",
    "total_alertsNO"
   ]
  },
  {
   "cell_type": "code",
   "execution_count": 73,
   "metadata": {},
   "outputs": [
    {
     "data": {
      "text/plain": [
       "95"
      ]
     },
     "execution_count": 73,
     "metadata": {},
     "output_type": "execute_result"
    }
   ],
   "source": [
    "# Total bullish alerts\n",
    "total_bullNO = dfno[dfno.Type=='Bullish'].shape[0]\n",
    "total_bullNO"
   ]
  },
  {
   "cell_type": "code",
   "execution_count": 74,
   "metadata": {},
   "outputs": [
    {
     "data": {
      "text/plain": [
       "0"
      ]
     },
     "execution_count": 74,
     "metadata": {},
     "output_type": "execute_result"
    }
   ],
   "source": [
    "#Total bearish alerts\n",
    "total_bearNO = dfno[dfno.Type=='Bearish'].shape[0]\n",
    "total_bearNO"
   ]
  },
  {
   "cell_type": "code",
   "execution_count": 75,
   "metadata": {},
   "outputs": [
    {
     "data": {
      "text/plain": [
       "0"
      ]
     },
     "execution_count": 75,
     "metadata": {},
     "output_type": "execute_result"
    }
   ],
   "source": [
    "#Total stagnant alerts\n",
    "StagnantNO = dfno[dfno.Result=='STAGNANT'].shape[0]\n",
    "StagnantNO"
   ]
  },
  {
   "cell_type": "code",
   "execution_count": 76,
   "metadata": {},
   "outputs": [
    {
     "data": {
      "text/plain": [
       "Series([], Name: Type, dtype: int64)"
      ]
     },
     "execution_count": 76,
     "metadata": {},
     "output_type": "execute_result"
    }
   ],
   "source": [
    "dfno[dfno.Result=='STAGNANT'].Type.value_counts()"
   ]
  },
  {
   "cell_type": "markdown",
   "metadata": {},
   "source": [
    "#### removing OPEN alerts"
   ]
  },
  {
   "cell_type": "code",
   "execution_count": 77,
   "metadata": {},
   "outputs": [
    {
     "data": {
      "text/plain": [
       "(3, Int64Index([0, 4, 12], dtype='int64'))"
      ]
     },
     "execution_count": 77,
     "metadata": {},
     "output_type": "execute_result"
    }
   ],
   "source": [
    "ons3 = dfno[dfno.Result=='ON'].index # Identify OPEN/ON alerts\n",
    "len(ons3), ons3 # all will be from current month"
   ]
  },
  {
   "cell_type": "code",
   "execution_count": 78,
   "metadata": {},
   "outputs": [
    {
     "data": {
      "text/plain": [
       "Bullish    3\n",
       "Name: Type, dtype: int64"
      ]
     },
     "execution_count": 78,
     "metadata": {},
     "output_type": "execute_result"
    }
   ],
   "source": [
    "on_count = dfno.iloc[ons3, :].Type.value_counts()\n",
    "on_count"
   ]
  },
  {
   "cell_type": "code",
   "execution_count": 79,
   "metadata": {},
   "outputs": [
    {
     "data": {
      "text/plain": [
       "(92, 14)"
      ]
     },
     "execution_count": 79,
     "metadata": {},
     "output_type": "execute_result"
    }
   ],
   "source": [
    "dfno.drop(ons3, axis=0, inplace=True) # Drop the ON alerts from analysis\n",
    "dfno.shape"
   ]
  },
  {
   "cell_type": "markdown",
   "metadata": {},
   "source": [
    "### Target achieved v/s SL Hit chart"
   ]
  },
  {
   "cell_type": "markdown",
   "metadata": {},
   "source": [
    "#### 0.5 weightage to STAGNANT"
   ]
  },
  {
   "cell_type": "code",
   "execution_count": 80,
   "metadata": {},
   "outputs": [
    {
     "data": {
      "text/plain": [
       "(76, 16)"
      ]
     },
     "execution_count": 80,
     "metadata": {},
     "output_type": "execute_result"
    }
   ],
   "source": [
    "# Total Target achieved and SL Hit alerts\n",
    "TA = dfno[dfno['result dummy']=='Target achieved'].shape[0]\n",
    "SL = dfno[dfno['result dummy']=='SL Hit'].shape[0]\n",
    "TA, SL"
   ]
  },
  {
   "cell_type": "code",
   "execution_count": 81,
   "metadata": {},
   "outputs": [
    {
     "data": {
      "text/plain": [
       "0"
      ]
     },
     "execution_count": 81,
     "metadata": {},
     "output_type": "execute_result"
    }
   ],
   "source": [
    "# Total stagnant alerts\n",
    "StagnantNO"
   ]
  },
  {
   "cell_type": "code",
   "execution_count": 82,
   "metadata": {},
   "outputs": [
    {
     "data": {
      "text/plain": [
       "(0, 0)"
      ]
     },
     "execution_count": 82,
     "metadata": {},
     "output_type": "execute_result"
    }
   ],
   "source": [
    "# (+)ive & (-)ive STAGNANT alerts\n",
    "n1 = dfno[(dfno['result dummy']=='STAGNANT') & (dfno.Type=='Bullish') & (dfno['15DayClose']<dfno.Price)].shape[0]\n",
    "p1 = dfno[(dfno['result dummy']=='STAGNANT') & (dfno.Type=='Bullish') & (dfno['15DayClose']>dfno.Price)].shape[0]\n",
    "\n",
    "n2 = dfno[(dfno['result dummy']=='STAGNANT') & (dfno.Type=='Bearish') & (dfno['15DayClose']>dfno.Price)].shape[0]\n",
    "p2 = dfno[(dfno['result dummy']=='STAGNANT') & (dfno.Type=='Bearish') & (dfno['15DayClose']<dfno.Price)].shape[0]\n",
    "\n",
    "p = p1 + p2\n",
    "n = n1 + n2\n",
    "p,n"
   ]
  },
  {
   "cell_type": "code",
   "execution_count": 83,
   "metadata": {},
   "outputs": [
    {
     "data": {
      "text/plain": [
       "(76.0, 16.0)"
      ]
     },
     "execution_count": 83,
     "metadata": {},
     "output_type": "execute_result"
    }
   ],
   "source": [
    "# Weightage of 0.5 to TA & SL\n",
    "TA += p*0.5\n",
    "SL += n*0.5 \n",
    "TA, SL"
   ]
  },
  {
   "cell_type": "code",
   "execution_count": 84,
   "metadata": {},
   "outputs": [
    {
     "data": {
      "text/plain": [
       "{'Target achieved': 82.61, 'SL Hit': 17.39}"
      ]
     },
     "execution_count": 84,
     "metadata": {},
     "output_type": "execute_result"
    }
   ],
   "source": [
    "stat = {'Target achieved':round(TA/(TA+SL)*100, 2), 'SL Hit':round(SL/(TA+SL)*100,2)}\n",
    "stat"
   ]
  },
  {
   "cell_type": "code",
   "execution_count": 85,
   "metadata": {},
   "outputs": [
    {
     "data": {
      "text/plain": [
       "Text(0, 0.5, '%')"
      ]
     },
     "execution_count": 85,
     "metadata": {},
     "output_type": "execute_result"
    },
    {
     "data": {
      "image/png": "[encoded data removed]",
      "text/plain": [
       "<Figure size 648x432 with 1 Axes>"
      ]
     },
     "metadata": {
      "needs_background": "light"
     },
     "output_type": "display_data"
    }
   ],
   "source": [
    "plt.figure(figsize=(9,6))\n",
    "plt.bar(stat.keys(), stat.values(), color=['forestgreen','indianred'])\n",
    "\n",
    "for i,j in enumerate(stat):\n",
    "    plt.annotate(f\"{stat[j]}%\", xy=(i-0.1, stat[j]+0.5), xycoords='data', fontsize=15)\n",
    "    \n",
    "\n",
    "plt.yticks(fontweight='bold')\n",
    "plt.xticks(fontweight='bold')\n",
    "#plt.grid(axis='y', lw=0.8)\n",
    "plt.ylabel(ylabel='%', fontsize=20)"
   ]
  },
  {
   "cell_type": "markdown",
   "metadata": {},
   "source": [
    "#### (T1-T3) intra comparison"
   ]
  },
  {
   "cell_type": "code",
   "execution_count": 86,
   "metadata": {},
   "outputs": [],
   "source": [
    "# TAstat = dfno[dfno.Result.isin(['T1','T2','T3'])].Result.value_counts(normalize=True) * 100\n",
    "# TAstat = TAstat.sort_index()\n",
    "\n",
    "# ax = plt.axes()\n",
    "\n",
    "# TAstat.plot(kind='bar', figsize=(10,6), color='deepskyblue')\n",
    "\n",
    "# for i,j in enumerate(TAstat.to_dict()):\n",
    "#     ax.annotate(f\"{round(TAstat[j], 2)}%\", xy=(i-0.1, TAstat[j]+0.25), xycoords='data', fontsize=15)\n",
    "\n",
    "# #plt.grid(axis='y', lw=0.5)\n",
    "# ax.set_xticklabels(labels=['% alerts that did not reach T2 & T3', 'T2','T3'])\n",
    "# plt.yticks(fontweight='bold')\n",
    "# plt.xticks(rotation=0, fontweight='bold')\n",
    "# plt.ylabel(ylabel='%', fontsize=20)"
   ]
  },
  {
   "cell_type": "markdown",
   "metadata": {},
   "source": [
    "### Avg NoD"
   ]
  },
  {
   "cell_type": "code",
   "execution_count": 87,
   "metadata": {},
   "outputs": [
    {
     "data": {
      "text/plain": [
       "2.0789473684210527"
      ]
     },
     "execution_count": 87,
     "metadata": {},
     "output_type": "execute_result"
    }
   ],
   "source": [
    "# Avg no. of days needed to hit T1\n",
    "dfno[dfno['result dummy']=='Target achieved'].NoD.mean()"
   ]
  },
  {
   "cell_type": "markdown",
   "metadata": {},
   "source": [
    "### Bullish v/s Bearish alerts"
   ]
  },
  {
   "cell_type": "markdown",
   "metadata": {},
   "source": [
    "#### Bullish"
   ]
  },
  {
   "cell_type": "code",
   "execution_count": 88,
   "metadata": {},
   "outputs": [
    {
     "name": "stdout",
     "output_type": "stream",
     "text": [
      "92\n",
      "In actual 95, +3 that were removed as ON alerts\n"
     ]
    }
   ],
   "source": [
    "# Total bullish alerts\n",
    "bull = dfno[dfno.Type=='Bullish']\n",
    "print(bull.shape[0])\n",
    "try:\n",
    "    print(f\"In actual {total_bullNO}, +{on_count['Bullish']} that were removed as ON alerts\")\n",
    "except:\n",
    "    print(f\"In actual {total_bullNO}\")"
   ]
  },
  {
   "cell_type": "code",
   "execution_count": 89,
   "metadata": {},
   "outputs": [
    {
     "data": {
      "text/plain": [
       "(76, 16)"
      ]
     },
     "execution_count": 89,
     "metadata": {},
     "output_type": "execute_result"
    }
   ],
   "source": [
    "# Total Target achieved and SL Hit alerts in bull df\n",
    "TA = bull[bull['result dummy']=='Target achieved'].shape[0]\n",
    "SL = bull[bull['result dummy']=='SL Hit'].shape[0]\n",
    "TA, SL"
   ]
  },
  {
   "cell_type": "code",
   "execution_count": 90,
   "metadata": {},
   "outputs": [
    {
     "data": {
      "text/plain": [
       "0"
      ]
     },
     "execution_count": 90,
     "metadata": {},
     "output_type": "execute_result"
    }
   ],
   "source": [
    "# Total stagnant alerts in Bullish alerts\n",
    "bull[bull['result dummy']=='STAGNANT'].shape[0]"
   ]
  },
  {
   "cell_type": "code",
   "execution_count": 91,
   "metadata": {},
   "outputs": [
    {
     "data": {
      "text/plain": [
       "(0, 0)"
      ]
     },
     "execution_count": 91,
     "metadata": {},
     "output_type": "execute_result"
    }
   ],
   "source": [
    "# (+)ive & (-)ive STAGNANT alerts in bull df\n",
    "n = bull[(bull['result dummy']=='STAGNANT') & (bull['15DayClose']<bull.Price)].shape[0]\n",
    "p = bull[(bull['result dummy']=='STAGNANT') & (bull['15DayClose']>bull.Price)].shape[0]\n",
    "p, n"
   ]
  },
  {
   "cell_type": "code",
   "execution_count": 92,
   "metadata": {},
   "outputs": [
    {
     "data": {
      "text/plain": [
       "(76.0, 16.0)"
      ]
     },
     "execution_count": 92,
     "metadata": {},
     "output_type": "execute_result"
    }
   ],
   "source": [
    "# Weightage of 0.5 to TA & SL\n",
    "TA += p*0.5\n",
    "SL += n*0.5 \n",
    "TA, SL"
   ]
  },
  {
   "cell_type": "code",
   "execution_count": 93,
   "metadata": {},
   "outputs": [
    {
     "data": {
      "text/plain": [
       "{'Target achieved': 82.61, 'SL Hit': 17.39}"
      ]
     },
     "execution_count": 93,
     "metadata": {},
     "output_type": "execute_result"
    }
   ],
   "source": [
    "stat = {'Target achieved':round(TA/(TA+SL)*100, 2), 'SL Hit':round(SL/(TA+SL)*100,2)}\n",
    "stat"
   ]
  },
  {
   "cell_type": "code",
   "execution_count": 94,
   "metadata": {},
   "outputs": [
    {
     "data": {
      "text/plain": [
       "Text(0, 0.5, '%')"
      ]
     },
     "execution_count": 94,
     "metadata": {},
     "output_type": "execute_result"
    },
    {
     "data": {
      "image/png": "[encoded data removed]",
      "text/plain": [
       "<Figure size 648x432 with 1 Axes>"
      ]
     },
     "metadata": {
      "needs_background": "light"
     },
     "output_type": "display_data"
    }
   ],
   "source": [
    "plt.figure(figsize=(9,6))\n",
    "plt.bar(stat.keys(), stat.values(), color=['forestgreen','indianred'])\n",
    "\n",
    "for i,j in enumerate(stat):\n",
    "    plt.annotate(f\"{stat[j]}%\", xy=(i-0.1, stat[j]+0.5), xycoords='data', fontsize=15)\n",
    "    \n",
    "\n",
    "plt.yticks(fontweight='bold')\n",
    "plt.xticks(fontweight='bold')\n",
    "#plt.grid(axis='y', lw=0.8)\n",
    "plt.ylabel(ylabel='%', fontsize=20)"
   ]
  },
  {
   "cell_type": "markdown",
   "metadata": {},
   "source": [
    "#### Bearish"
   ]
  },
  {
   "cell_type": "code",
   "execution_count": 95,
   "metadata": {},
   "outputs": [
    {
     "data": {
      "text/plain": [
       "(0, 14)"
      ]
     },
     "execution_count": 95,
     "metadata": {},
     "output_type": "execute_result"
    }
   ],
   "source": [
    "# No bearish alerts generated in Cash_N500_Other segement\n",
    "bear = dfno[dfno.Type=='Bearish']\n",
    "bear.shape"
   ]
  },
  {
   "cell_type": "markdown",
   "metadata": {},
   "source": [
    "## Monthly Analysis"
   ]
  },
  {
   "cell_type": "code",
   "execution_count": 96,
   "metadata": {},
   "outputs": [],
   "source": [
    "dfm = dfno.sort_values(by='Date').set_index('Date')"
   ]
  },
  {
   "cell_type": "code",
   "execution_count": 97,
   "metadata": {},
   "outputs": [],
   "source": [
    "months = []\n",
    "mos = pd.Series(dfm.index.to_numpy().astype('datetime64[M]')).unique()\n",
    "for mo in mos:\n",
    "    months.append(dt.datetime.date(pd.to_datetime(mo)).strftime(format=\"%b%y\"))"
   ]
  },
  {
   "cell_type": "code",
   "execution_count": 98,
   "metadata": {},
   "outputs": [],
   "source": [
    "monthly_stats = []\n",
    "monthlyTA_stats = []\n",
    "monthly_alerts = []\n",
    "for i in months:\n",
    "    month = dt.datetime.strptime(i, \"%b%y\").month                                               # current_month\n",
    "    year = dt.datetime.strptime(i, \"%b%y\").year                                                 # current_year\n",
    "    end = calendar.monthrange(year, month)[1]                      \n",
    "    current_month = dfm.loc[f\"{year}-{month}-01\":f\"{year}-{month}-{end}\"]                  # get that month's df\n",
    "    \n",
    "    monthly_alerts.append(current_month.shape[0])                                   # total alerts in current month\n",
    "    \n",
    "    # Total Target achieved and SL Hit alerts in current month\n",
    "    TA = current_month[current_month['result dummy']=='Target achieved'].shape[0]\n",
    "    SL = current_month[current_month['result dummy']=='SL Hit'].shape[0]\n",
    "    \n",
    "    # (+)ive & (-)ive STAGNANT alerts\n",
    "    n1 = current_month[(current_month['result dummy']=='STAGNANT') & (current_month.Type=='Bullish') & (current_month['15DayClose']<current_month.Price)].shape[0]\n",
    "    p1 = current_month[(current_month['result dummy']=='STAGNANT') & (current_month.Type=='Bullish') & (current_month['15DayClose']>current_month.Price)].shape[0]\n",
    "\n",
    "    n2 = current_month[(current_month['result dummy']=='STAGNANT') & (current_month.Type=='Bearish') & (current_month['15DayClose']>current_month.Price)].shape[0]\n",
    "    p2 = current_month[(current_month['result dummy']=='STAGNANT') & (current_month.Type=='Bearish') & (current_month['15DayClose']<current_month.Price)].shape[0]\n",
    "\n",
    "    p = p1 + p2\n",
    "    n = n1 + n2\n",
    "    \n",
    "    # Weightage of 0.5 to TA & SL\n",
    "    TA += p*0.5\n",
    "    SL += n*0.5 \n",
    "    \n",
    "    current_stat = {'Target achieved':round(TA/(TA+SL)*100, 2), 'SL Hit':round(SL/(TA+SL)*100,2)}\n",
    "    monthly_stats.append(current_stat)\n",
    "    \n",
    "#     TAstat = current_month[current_month.Result.isin(['T1','T2','T3'])].Result.value_counts(normalize=True) * 100\n",
    "#     if len(TAstat.index)<3:\n",
    "#         y = ['T1','T2','T3']\n",
    "#         TAstat[list(set(y).difference(set(TAstat.index)))[0]] = 0.0\n",
    "#     TAstat = TAstat.sort_index()\n",
    "#     monthlyTA_stats.append(TAstat)"
   ]
  },
  {
   "cell_type": "markdown",
   "metadata": {},
   "source": [
    "### Line chart"
   ]
  },
  {
   "cell_type": "code",
   "execution_count": 99,
   "metadata": {},
   "outputs": [],
   "source": [
    "line_data = ([x['Target achieved'] for x in monthly_stats]), ([x['SL Hit'] for x in monthly_stats])"
   ]
  },
  {
   "cell_type": "code",
   "execution_count": 100,
   "metadata": {},
   "outputs": [
    {
     "data": {
      "image/png": "[encoded data removed]",
      "text/plain": [
       "<Figure size 720x432 with 2 Axes>"
      ]
     },
     "metadata": {
      "needs_background": "light"
     },
     "output_type": "display_data"
    }
   ],
   "source": [
    "fig, ax = plt.subplots(figsize=(10,6))\n",
    "ax.set_facecolor('white')\n",
    "\n",
    "ax.plot(months, line_data[0], marker='o', color='darkgreen')\n",
    "ax.plot(months, line_data[1], marker='o', color='red')\n",
    "ax.grid(axis='y', lw=0.25)\n",
    "#ax.set_ylim(0, 100)\n",
    "ax.set_title(f'Totals alerts in {months[-1]}: {monthly_alerts[-1] + len(ons3)}; OPEN alerts: {len(ons3)}')\n",
    "\n",
    "for i,j in enumerate(line_data[0]):\n",
    "    ax.annotate(s=f'{round(j,2)}', xy=(i, j), xycoords='data', fontsize=11, color='darkgreen')\n",
    "    \n",
    "for i,j in enumerate(line_data[1]):\n",
    "    ax.annotate(s=f'{round(j,2)}', xy=(i, j), xycoords='data', fontsize=11, color='red')\n",
    "\n",
    "ax.legend(['Target achieved %', 'SL Hit %'], loc='center left', facecolor='white')\n",
    "ax.set_xticklabels(labels = months, fontweight='bold')\n",
    "ax.set_ylabel('Target & SL Hit in %', fontsize=16)\n",
    "\n",
    "ax2 = ax.twinx()\n",
    "ax2.plot(months, monthly_alerts, marker='o')\n",
    "ax2.set_ylabel('No. of alerts', fontsize=14, rotation=-90, labelpad=13)\n",
    "ax2.legend(labels=['# of closed alerts'], loc='best', facecolor='white')\n",
    "\n",
    "for i,j in enumerate(monthly_alerts):\n",
    "    ax2.annotate(s=j, xy=(i, j), xycoords='data', fontsize=11, color='blue')"
   ]
  },
  {
   "cell_type": "code",
   "execution_count": 101,
   "metadata": {
    "scrolled": false
   },
   "outputs": [],
   "source": [
    "# fig, ax = plt.subplots(figsize=(10,7))\n",
    "# ax.set_facecolor('white')\n",
    "\n",
    "# ax.plot(months, np.array(monthlyTA_stats)[:, 0], marker='o', color='darkgreen')\n",
    "# ax.plot(months, np.array(monthlyTA_stats)[:, 1], marker='o', color='saddlebrown')\n",
    "# ax.plot(months, np.array(monthlyTA_stats)[:, 2], marker='o', color='darkslategrey')\n",
    "# ax.grid(axis='y', lw=0.3)\n",
    "# #ax.set_ylim(0, 100)\n",
    "\n",
    "# for i,j in enumerate(np.array(monthlyTA_stats)):\n",
    "#     ax.annotate(s=f'{round(j[0],2)}', xy=(i-0.1, j[0]+1), xycoords='data', fontsize=11, color='darkgreen')\n",
    "#     ax.annotate(s=f'{round(j[1],2)}', xy=(i-0.1, j[1]+1), xycoords='data', fontsize=11, color='saddlebrown')    \n",
    "#     ax.annotate(s=f'{round(j[2],2)}', xy=(i-0.1, j[2]+1), xycoords='data', fontsize=11, color='darkslategrey')  \n",
    "    \n",
    "# ax.legend(['% alerts that did not hit T2 & T3', 'T2', 'T3'], loc='upper right', bbox_to_anchor=(1, 0.3), facecolor='white')\n",
    "# ax.set_xticklabels(labels = months, fontweight='bold')\n",
    "# ax.set_ylabel('alerts that hit T1/T2/T3 in % of Total Target achieved', fontsize=12)"
   ]
  },
  {
   "cell_type": "markdown",
   "metadata": {},
   "source": [
    "# RTP"
   ]
  },
  {
   "cell_type": "code",
   "execution_count": 102,
   "metadata": {},
   "outputs": [],
   "source": [
    "dfrtp = pd.read_excel('D:/Yash/Python Projects/tgm_stk_tkr/default/data/RTP.xlsx')"
   ]
  },
  {
   "cell_type": "code",
   "execution_count": 103,
   "metadata": {},
   "outputs": [
    {
     "data": {
      "text/plain": [
       "85"
      ]
     },
     "execution_count": 103,
     "metadata": {},
     "output_type": "execute_result"
    }
   ],
   "source": [
    "# total alerts\n",
    "total_alertsRTP = dfrtp.shape[0]\n",
    "total_alertsRTP"
   ]
  },
  {
   "cell_type": "code",
   "execution_count": 104,
   "metadata": {},
   "outputs": [
    {
     "data": {
      "text/plain": [
       "85"
      ]
     },
     "execution_count": 104,
     "metadata": {},
     "output_type": "execute_result"
    }
   ],
   "source": [
    "# Total bullish alerts\n",
    "total_bullRTP = dfrtp[dfrtp.Type=='Bullish'].shape[0]\n",
    "total_bullRTP"
   ]
  },
  {
   "cell_type": "code",
   "execution_count": 105,
   "metadata": {},
   "outputs": [
    {
     "data": {
      "text/plain": [
       "0"
      ]
     },
     "execution_count": 105,
     "metadata": {},
     "output_type": "execute_result"
    }
   ],
   "source": [
    "#Total bearish alerts\n",
    "total_bearRTP = dfrtp[dfrtp.Type=='Bearish'].shape[0]\n",
    "total_bearRTP"
   ]
  },
  {
   "cell_type": "code",
   "execution_count": 106,
   "metadata": {},
   "outputs": [
    {
     "data": {
      "text/plain": [
       "3"
      ]
     },
     "execution_count": 106,
     "metadata": {},
     "output_type": "execute_result"
    }
   ],
   "source": [
    "#Total stagnant alerts\n",
    "StagnantRTP = dfrtp[dfrtp.Result=='STAGNANT'].shape[0]\n",
    "StagnantRTP"
   ]
  },
  {
   "cell_type": "code",
   "execution_count": 107,
   "metadata": {},
   "outputs": [
    {
     "data": {
      "text/plain": [
       "Bullish    3\n",
       "Name: Type, dtype: int64"
      ]
     },
     "execution_count": 107,
     "metadata": {},
     "output_type": "execute_result"
    }
   ],
   "source": [
    "dfrtp[dfrtp.Result=='STAGNANT'].Type.value_counts()"
   ]
  },
  {
   "cell_type": "markdown",
   "metadata": {},
   "source": [
    "#### removing OPEN alerts"
   ]
  },
  {
   "cell_type": "code",
   "execution_count": 108,
   "metadata": {},
   "outputs": [
    {
     "data": {
      "text/plain": [
       "(6, Int64Index([2, 4, 5, 7, 9, 11], dtype='int64'))"
      ]
     },
     "execution_count": 108,
     "metadata": {},
     "output_type": "execute_result"
    }
   ],
   "source": [
    "ons4 = dfrtp[dfrtp.Result=='ON'].index # Identify OPEN/ON alerts\n",
    "len(ons4), ons4 # all will be from current month"
   ]
  },
  {
   "cell_type": "code",
   "execution_count": 109,
   "metadata": {},
   "outputs": [
    {
     "data": {
      "text/plain": [
       "Bullish    6\n",
       "Name: Type, dtype: int64"
      ]
     },
     "execution_count": 109,
     "metadata": {},
     "output_type": "execute_result"
    }
   ],
   "source": [
    "on_count = dfrtp.iloc[ons4, :].Type.value_counts()\n",
    "on_count"
   ]
  },
  {
   "cell_type": "code",
   "execution_count": 110,
   "metadata": {},
   "outputs": [
    {
     "data": {
      "text/plain": [
       "(79, 14)"
      ]
     },
     "execution_count": 110,
     "metadata": {},
     "output_type": "execute_result"
    }
   ],
   "source": [
    "dfrtp.drop(ons4, axis=0, inplace=True) # Drop the ON alerts from analysis\n",
    "dfrtp.shape"
   ]
  },
  {
   "cell_type": "markdown",
   "metadata": {},
   "source": [
    "### Target achieved v/s SL Hit chart"
   ]
  },
  {
   "cell_type": "markdown",
   "metadata": {},
   "source": [
    "#### 0.5 weightage to STAGNANT"
   ]
  },
  {
   "cell_type": "code",
   "execution_count": 111,
   "metadata": {},
   "outputs": [
    {
     "data": {
      "text/plain": [
       "(57, 19)"
      ]
     },
     "execution_count": 111,
     "metadata": {},
     "output_type": "execute_result"
    }
   ],
   "source": [
    "# Total Target achieved and SL Hit alerts\n",
    "TA = dfrtp[dfrtp['result dummy']=='Target achieved'].shape[0]\n",
    "SL = dfrtp[dfrtp['result dummy']=='SL Hit'].shape[0]\n",
    "TA, SL"
   ]
  },
  {
   "cell_type": "code",
   "execution_count": 112,
   "metadata": {},
   "outputs": [
    {
     "data": {
      "text/plain": [
       "3"
      ]
     },
     "execution_count": 112,
     "metadata": {},
     "output_type": "execute_result"
    }
   ],
   "source": [
    "# Total stagnant alerts\n",
    "StagnantRTP"
   ]
  },
  {
   "cell_type": "code",
   "execution_count": 113,
   "metadata": {},
   "outputs": [
    {
     "data": {
      "text/plain": [
       "(0, 3)"
      ]
     },
     "execution_count": 113,
     "metadata": {},
     "output_type": "execute_result"
    }
   ],
   "source": [
    "# (+)ive & (-)ive STAGNANT alerts\n",
    "n1 = dfrtp[(dfrtp['result dummy']=='STAGNANT') & (dfrtp.Type=='Bullish') & (dfrtp['15DayClose']<dfrtp.Price)].shape[0]\n",
    "p1 = dfrtp[(dfrtp['result dummy']=='STAGNANT') & (dfrtp.Type=='Bullish') & (dfrtp['15DayClose']>dfrtp.Price)].shape[0]\n",
    "\n",
    "n2 = dfrtp[(dfrtp['result dummy']=='STAGNANT') & (dfrtp.Type=='Bearish') & (dfrtp['15DayClose']>dfrtp.Price)].shape[0]\n",
    "p2 = dfrtp[(dfrtp['result dummy']=='STAGNANT') & (dfrtp.Type=='Bearish') & (dfrtp['15DayClose']<dfrtp.Price)].shape[0]\n",
    "\n",
    "p = p1 + p2\n",
    "n = n1 + n2\n",
    "p,n"
   ]
  },
  {
   "cell_type": "code",
   "execution_count": 114,
   "metadata": {},
   "outputs": [
    {
     "data": {
      "text/plain": [
       "(57.0, 20.5)"
      ]
     },
     "execution_count": 114,
     "metadata": {},
     "output_type": "execute_result"
    }
   ],
   "source": [
    "# Weightage of 0.5 to TA & SL\n",
    "TA += p*0.5\n",
    "SL += n*0.5 \n",
    "TA, SL"
   ]
  },
  {
   "cell_type": "code",
   "execution_count": 115,
   "metadata": {},
   "outputs": [
    {
     "data": {
      "text/plain": [
       "{'Target achieved': 73.55, 'SL Hit': 26.45}"
      ]
     },
     "execution_count": 115,
     "metadata": {},
     "output_type": "execute_result"
    }
   ],
   "source": [
    "stat = {'Target achieved':round(TA/(TA+SL)*100, 2), 'SL Hit':round(SL/(TA+SL)*100,2)}\n",
    "stat"
   ]
  },
  {
   "cell_type": "code",
   "execution_count": 116,
   "metadata": {},
   "outputs": [
    {
     "data": {
      "text/plain": [
       "Text(0, 0.5, '%')"
      ]
     },
     "execution_count": 116,
     "metadata": {},
     "output_type": "execute_result"
    },
    {
     "data": {
      "image/png": "[encoded data removed]",
      "text/plain": [
       "<Figure size 648x432 with 1 Axes>"
      ]
     },
     "metadata": {
      "needs_background": "light"
     },
     "output_type": "display_data"
    }
   ],
   "source": [
    "plt.figure(figsize=(9,6))\n",
    "plt.bar(stat.keys(), stat.values(), color=['forestgreen','indianred'])\n",
    "\n",
    "for i,j in enumerate(stat):\n",
    "    plt.annotate(f\"{stat[j]}%\", xy=(i-0.1, stat[j]+0.5), xycoords='data', fontsize=15)\n",
    "    \n",
    "\n",
    "plt.yticks(fontweight='bold')\n",
    "plt.xticks(fontweight='bold')\n",
    "#plt.grid(axis='y', lw=0.8)\n",
    "plt.ylabel(ylabel='%', fontsize=20)"
   ]
  },
  {
   "cell_type": "markdown",
   "metadata": {},
   "source": [
    "#### (T1-T3) intra comparison"
   ]
  },
  {
   "cell_type": "code",
   "execution_count": 117,
   "metadata": {},
   "outputs": [],
   "source": [
    "# TAstat = dfno[dfno.Result.isin(['T1','T2','T3'])].Result.value_counts(normalize=True) * 100\n",
    "# TAstat = TAstat.sort_index()\n",
    "\n",
    "# ax = plt.axes()\n",
    "\n",
    "# TAstat.plot(kind='bar', figsize=(10,6), color='deepskyblue')\n",
    "\n",
    "# for i,j in enumerate(TAstat.to_dict()):\n",
    "#     ax.annotate(f\"{round(TAstat[j], 2)}%\", xy=(i-0.1, TAstat[j]+0.25), xycoords='data', fontsize=15)\n",
    "\n",
    "# #plt.grid(axis='y', lw=0.5)\n",
    "# ax.set_xticklabels(labels=['% alerts that did not reach T2 & T3', 'T2','T3'])\n",
    "# plt.yticks(fontweight='bold')\n",
    "# plt.xticks(rotation=0, fontweight='bold')\n",
    "# plt.ylabel(ylabel='%', fontsize=20)"
   ]
  },
  {
   "cell_type": "markdown",
   "metadata": {},
   "source": [
    "### Avg NoD"
   ]
  },
  {
   "cell_type": "code",
   "execution_count": 118,
   "metadata": {},
   "outputs": [
    {
     "data": {
      "text/plain": [
       "3.280701754385965"
      ]
     },
     "execution_count": 118,
     "metadata": {},
     "output_type": "execute_result"
    }
   ],
   "source": [
    "# Avg no. of days needed to hit T1\n",
    "dfrtp[dfrtp['result dummy']=='Target achieved'].NoD.mean()"
   ]
  },
  {
   "cell_type": "markdown",
   "metadata": {},
   "source": [
    "### Bullish v/s Bearish alerts"
   ]
  },
  {
   "cell_type": "markdown",
   "metadata": {},
   "source": [
    "#### Bullish"
   ]
  },
  {
   "cell_type": "code",
   "execution_count": 119,
   "metadata": {},
   "outputs": [
    {
     "name": "stdout",
     "output_type": "stream",
     "text": [
      "79\n",
      "In actual 85, +6 that were removed as ON alerts\n"
     ]
    }
   ],
   "source": [
    "# Total bullish alerts\n",
    "bull = dfrtp[dfrtp.Type=='Bullish']\n",
    "print(bull.shape[0])\n",
    "try:\n",
    "    print(f\"In actual {total_bullRTP}, +{on_count['Bullish']} that were removed as ON alerts\")\n",
    "except:\n",
    "    print(f\"In actual {total_bullRTP}\")"
   ]
  },
  {
   "cell_type": "code",
   "execution_count": 120,
   "metadata": {},
   "outputs": [
    {
     "data": {
      "text/plain": [
       "(57, 19)"
      ]
     },
     "execution_count": 120,
     "metadata": {},
     "output_type": "execute_result"
    }
   ],
   "source": [
    "# Total Target achieved and SL Hit alerts in bull df\n",
    "TA = bull[bull['result dummy']=='Target achieved'].shape[0]\n",
    "SL = bull[bull['result dummy']=='SL Hit'].shape[0]\n",
    "TA, SL"
   ]
  },
  {
   "cell_type": "code",
   "execution_count": 121,
   "metadata": {},
   "outputs": [
    {
     "data": {
      "text/plain": [
       "3"
      ]
     },
     "execution_count": 121,
     "metadata": {},
     "output_type": "execute_result"
    }
   ],
   "source": [
    "# Total stagnant alerts in Bullish alerts\n",
    "bull[bull['result dummy']=='STAGNANT'].shape[0]"
   ]
  },
  {
   "cell_type": "code",
   "execution_count": 122,
   "metadata": {},
   "outputs": [
    {
     "data": {
      "text/plain": [
       "(0, 3)"
      ]
     },
     "execution_count": 122,
     "metadata": {},
     "output_type": "execute_result"
    }
   ],
   "source": [
    "# (+)ive & (-)ive STAGNANT alerts in bull df\n",
    "n = bull[(bull['result dummy']=='STAGNANT') & (bull['15DayClose']<bull.Price)].shape[0]\n",
    "p = bull[(bull['result dummy']=='STAGNANT') & (bull['15DayClose']>bull.Price)].shape[0]\n",
    "p, n"
   ]
  },
  {
   "cell_type": "code",
   "execution_count": 123,
   "metadata": {},
   "outputs": [
    {
     "data": {
      "text/plain": [
       "(57.0, 20.5)"
      ]
     },
     "execution_count": 123,
     "metadata": {},
     "output_type": "execute_result"
    }
   ],
   "source": [
    "# Weightage of 0.5 to TA & SL\n",
    "TA += p*0.5\n",
    "SL += n*0.5 \n",
    "TA, SL"
   ]
  },
  {
   "cell_type": "code",
   "execution_count": 124,
   "metadata": {},
   "outputs": [
    {
     "data": {
      "text/plain": [
       "{'Target achieved': 73.55, 'SL Hit': 26.45}"
      ]
     },
     "execution_count": 124,
     "metadata": {},
     "output_type": "execute_result"
    }
   ],
   "source": [
    "stat = {'Target achieved':round(TA/(TA+SL)*100, 2), 'SL Hit':round(SL/(TA+SL)*100,2)}\n",
    "stat"
   ]
  },
  {
   "cell_type": "code",
   "execution_count": 125,
   "metadata": {},
   "outputs": [
    {
     "data": {
      "text/plain": [
       "Text(0, 0.5, '%')"
      ]
     },
     "execution_count": 125,
     "metadata": {},
     "output_type": "execute_result"
    },
    {
     "data": {
      "image/png": "[encoded data removed]",
      "text/plain": [
       "<Figure size 648x432 with 1 Axes>"
      ]
     },
     "metadata": {
      "needs_background": "light"
     },
     "output_type": "display_data"
    }
   ],
   "source": [
    "plt.figure(figsize=(9,6))\n",
    "plt.bar(stat.keys(), stat.values(), color=['forestgreen','indianred'])\n",
    "\n",
    "for i,j in enumerate(stat):\n",
    "    plt.annotate(f\"{stat[j]}%\", xy=(i-0.1, stat[j]+0.5), xycoords='data', fontsize=15)\n",
    "    \n",
    "\n",
    "plt.yticks(fontweight='bold')\n",
    "plt.xticks(fontweight='bold')\n",
    "#plt.grid(axis='y', lw=0.8)\n",
    "plt.ylabel(ylabel='%', fontsize=20)"
   ]
  },
  {
   "cell_type": "markdown",
   "metadata": {},
   "source": [
    "#### Bearish"
   ]
  },
  {
   "cell_type": "code",
   "execution_count": 126,
   "metadata": {},
   "outputs": [
    {
     "data": {
      "text/plain": [
       "(0, 14)"
      ]
     },
     "execution_count": 126,
     "metadata": {},
     "output_type": "execute_result"
    }
   ],
   "source": [
    "# No bearish alerts generated in Cash_N500_Other segement\n",
    "bear = dfrtp[dfrtp.Type=='Bearish']\n",
    "bear.shape"
   ]
  },
  {
   "cell_type": "markdown",
   "metadata": {},
   "source": [
    "## Monthly Analysis"
   ]
  },
  {
   "cell_type": "code",
   "execution_count": 127,
   "metadata": {},
   "outputs": [],
   "source": [
    "dfm = dfrtp.sort_values(by='Date').set_index('Date')"
   ]
  },
  {
   "cell_type": "code",
   "execution_count": 128,
   "metadata": {},
   "outputs": [],
   "source": [
    "months = []\n",
    "mos = pd.Series(dfm.index.to_numpy().astype('datetime64[M]')).unique()\n",
    "for mo in mos:\n",
    "    months.append(dt.datetime.date(pd.to_datetime(mo)).strftime(format=\"%b%y\"))"
   ]
  },
  {
   "cell_type": "code",
   "execution_count": 129,
   "metadata": {},
   "outputs": [],
   "source": [
    "monthly_stats = []\n",
    "monthlyTA_stats = []\n",
    "monthly_alerts = []\n",
    "for i in months:\n",
    "    month = dt.datetime.strptime(i, \"%b%y\").month                                               # current_month\n",
    "    year = dt.datetime.strptime(i, \"%b%y\").year                                                 # current_year\n",
    "    end = calendar.monthrange(year, month)[1]                      \n",
    "    current_month = dfm.loc[f\"{year}-{month}-01\":f\"{year}-{month}-{end}\"]                  # get that month's df\n",
    "    \n",
    "    monthly_alerts.append(current_month.shape[0])                                   # total alerts in current month\n",
    "    \n",
    "    # Total Target achieved and SL Hit alerts in current month\n",
    "    TA = current_month[current_month['result dummy']=='Target achieved'].shape[0]\n",
    "    SL = current_month[current_month['result dummy']=='SL Hit'].shape[0]\n",
    "    \n",
    "    # (+)ive & (-)ive STAGNANT alerts\n",
    "    n1 = current_month[(current_month['result dummy']=='STAGNANT') & (current_month.Type=='Bullish') & (current_month['15DayClose']<current_month.Price)].shape[0]\n",
    "    p1 = current_month[(current_month['result dummy']=='STAGNANT') & (current_month.Type=='Bullish') & (current_month['15DayClose']>current_month.Price)].shape[0]\n",
    "\n",
    "    n2 = current_month[(current_month['result dummy']=='STAGNANT') & (current_month.Type=='Bearish') & (current_month['15DayClose']>current_month.Price)].shape[0]\n",
    "    p2 = current_month[(current_month['result dummy']=='STAGNANT') & (current_month.Type=='Bearish') & (current_month['15DayClose']<current_month.Price)].shape[0]\n",
    "\n",
    "    p = p1 + p2\n",
    "    n = n1 + n2\n",
    "    \n",
    "    # Weightage of 0.5 to TA & SL\n",
    "    TA += p*0.5\n",
    "    SL += n*0.5 \n",
    "    \n",
    "    current_stat = {'Target achieved':round(TA/(TA+SL)*100, 2), 'SL Hit':round(SL/(TA+SL)*100,2)}\n",
    "    monthly_stats.append(current_stat)\n",
    "    \n",
    "#     TAstat = current_month[current_month.Result.isin(['T1','T2','T3'])].Result.value_counts(normalize=True) * 100\n",
    "#     if len(TAstat.index)<3:\n",
    "#         y = ['T1','T2','T3']\n",
    "#         TAstat[list(set(y).difference(set(TAstat.index)))[0]] = 0.0\n",
    "#     TAstat = TAstat.sort_index()\n",
    "#     monthlyTA_stats.append(TAstat)"
   ]
  },
  {
   "cell_type": "markdown",
   "metadata": {},
   "source": [
    "### Line chart"
   ]
  },
  {
   "cell_type": "code",
   "execution_count": 130,
   "metadata": {},
   "outputs": [],
   "source": [
    "line_data = ([x['Target achieved'] for x in monthly_stats]), ([x['SL Hit'] for x in monthly_stats])"
   ]
  },
  {
   "cell_type": "code",
   "execution_count": 131,
   "metadata": {},
   "outputs": [
    {
     "data": {
      "image/png": "[encoded data removed]",
      "text/plain": [
       "<Figure size 720x432 with 2 Axes>"
      ]
     },
     "metadata": {
      "needs_background": "light"
     },
     "output_type": "display_data"
    }
   ],
   "source": [
    "fig, ax = plt.subplots(figsize=(10,6))\n",
    "ax.set_facecolor('white')\n",
    "\n",
    "ax.plot(months, line_data[0], marker='o', color='darkgreen')\n",
    "ax.plot(months, line_data[1], marker='o', color='red')\n",
    "ax.grid(axis='y', lw=0.25)\n",
    "#ax.set_ylim(0, 100)\n",
    "ax.set_title(f'Totals alerts in {months[-1]}: {monthly_alerts[-1] + len(ons4)}; OPEN alerts: {len(ons4)}')\n",
    "\n",
    "for i,j in enumerate(line_data[0]):\n",
    "    ax.annotate(s=f'{round(j,2)}', xy=(i, j), xycoords='data', fontsize=11, color='darkgreen')\n",
    "    \n",
    "for i,j in enumerate(line_data[1]):\n",
    "    ax.annotate(s=f'{round(j,2)}', xy=(i, j), xycoords='data', fontsize=11, color='red')\n",
    "\n",
    "ax.legend(['Target achieved %', 'SL Hit %'], loc='center left', facecolor='white')\n",
    "ax.set_xticklabels(labels = months, fontweight='bold')\n",
    "ax.set_ylabel('Target & SL Hit in %', fontsize=16)\n",
    "\n",
    "ax2 = ax.twinx()\n",
    "ax2.plot(months, monthly_alerts, marker='o')\n",
    "ax2.set_ylabel('No. of alerts', fontsize=14, rotation=-90, labelpad=13)\n",
    "ax2.legend(labels=['# of closed alerts'], loc='best', facecolor='white')\n",
    "\n",
    "for i,j in enumerate(monthly_alerts):\n",
    "    ax2.annotate(s=j, xy=(i, j), xycoords='data', fontsize=11, color='blue')"
   ]
  },
  {
   "cell_type": "code",
   "execution_count": 132,
   "metadata": {
    "scrolled": false
   },
   "outputs": [],
   "source": [
    "# fig, ax = plt.subplots(figsize=(10,7))\n",
    "# ax.set_facecolor('white')\n",
    "\n",
    "# ax.plot(months, np.array(monthlyTA_stats)[:, 0], marker='o', color='darkgreen')\n",
    "# ax.plot(months, np.array(monthlyTA_stats)[:, 1], marker='o', color='saddlebrown')\n",
    "# ax.plot(months, np.array(monthlyTA_stats)[:, 2], marker='o', color='darkslategrey')\n",
    "# ax.grid(axis='y', lw=0.3)\n",
    "# #ax.set_ylim(0, 100)\n",
    "\n",
    "# for i,j in enumerate(np.array(monthlyTA_stats)):\n",
    "#     ax.annotate(s=f'{round(j[0],2)}', xy=(i-0.1, j[0]+1), xycoords='data', fontsize=11, color='darkgreen')\n",
    "#     ax.annotate(s=f'{round(j[1],2)}', xy=(i-0.1, j[1]+1), xycoords='data', fontsize=11, color='saddlebrown')    \n",
    "#     ax.annotate(s=f'{round(j[2],2)}', xy=(i-0.1, j[2]+1), xycoords='data', fontsize=11, color='darkslategrey')  \n",
    "    \n",
    "# ax.legend(['% alerts that did not hit T2 & T3', 'T2', 'T3'], loc='upper right', bbox_to_anchor=(1, 0.3), facecolor='white')\n",
    "# ax.set_xticklabels(labels = months, fontweight='bold')\n",
    "# ax.set_ylabel('alerts that hit T1/T2/T3 in % of Total Target achieved', fontsize=12)"
   ]
  },
  {
   "cell_type": "markdown",
   "metadata": {},
   "source": [
    "# Combined"
   ]
  },
  {
   "cell_type": "code",
   "execution_count": 133,
   "metadata": {},
   "outputs": [],
   "source": [
    "df1 = pd.concat([dfcn, dfcf]).reset_index(drop=True)\n",
    "df2 = pd.concat([dfno, dfrtp]).reset_index(drop=True)\n",
    "df = pd.concat([df1, df2]).reset_index(drop=True).sort_values(by='Date')"
   ]
  },
  {
   "cell_type": "code",
   "execution_count": 134,
   "metadata": {},
   "outputs": [
    {
     "name": "stdout",
     "output_type": "stream",
     "text": [
      "878\n",
      "In actual, total alerts: 898\n"
     ]
    }
   ],
   "source": [
    "print(df.shape[0]) \n",
    "total_alerts = total_alertsFO + total_alertsNC + total_alertsNO + total_alertsRTP\n",
    "print(\"In actual, total alerts:\", total_alerts)"
   ]
  },
  {
   "cell_type": "code",
   "execution_count": 135,
   "metadata": {},
   "outputs": [
    {
     "name": "stdout",
     "output_type": "stream",
     "text": [
      "710\n",
      "In actual, total bullish alerts: 728\n"
     ]
    }
   ],
   "source": [
    "# Total bullish alerts\n",
    "print(df[df.Type=='Bullish'].shape[0]) \n",
    "total_bull = total_bullFO + total_bullNC + total_bullNO + total_bullRTP\n",
    "print(\"In actual, total bullish alerts:\", total_bull)"
   ]
  },
  {
   "cell_type": "code",
   "execution_count": 136,
   "metadata": {},
   "outputs": [
    {
     "name": "stdout",
     "output_type": "stream",
     "text": [
      "168\n",
      "In actual, total bearish alerts: 170\n"
     ]
    }
   ],
   "source": [
    "#Total bearish alerts\n",
    "print(df[df.Type=='Bearish'].shape[0])\n",
    "total_bear = total_bearFO + total_bearNC  + total_bearNO + total_bearRTP\n",
    "print(\"In actual, total bearish alerts:\", total_bear)"
   ]
  },
  {
   "cell_type": "code",
   "execution_count": 137,
   "metadata": {},
   "outputs": [
    {
     "data": {
      "text/plain": [
       "29"
      ]
     },
     "execution_count": 137,
     "metadata": {},
     "output_type": "execute_result"
    }
   ],
   "source": [
    "#Total stagnant alerts\n",
    "total_stagnant = StagnantNC + StagnantFO + StagnantNO + StagnantRTP\n",
    "total_stagnant"
   ]
  },
  {
   "cell_type": "code",
   "execution_count": 138,
   "metadata": {},
   "outputs": [
    {
     "data": {
      "text/plain": [
       "Bullish    27\n",
       "Bearish     2\n",
       "Name: Type, dtype: int64"
      ]
     },
     "execution_count": 138,
     "metadata": {},
     "output_type": "execute_result"
    }
   ],
   "source": [
    "df[df.Result=='STAGNANT'].Type.value_counts()"
   ]
  },
  {
   "cell_type": "code",
   "execution_count": 139,
   "metadata": {},
   "outputs": [
    {
     "data": {
      "text/plain": [
       "0"
      ]
     },
     "execution_count": 139,
     "metadata": {},
     "output_type": "execute_result"
    }
   ],
   "source": [
    "# ON Alerts have already been removed\n",
    "df[df.Result=='ON'].shape[0]"
   ]
  },
  {
   "cell_type": "markdown",
   "metadata": {},
   "source": [
    "### Target achieved v/s SL Hit chart"
   ]
  },
  {
   "cell_type": "markdown",
   "metadata": {},
   "source": [
    "#### 0.5 weightage to STAGNANT"
   ]
  },
  {
   "cell_type": "code",
   "execution_count": 140,
   "metadata": {},
   "outputs": [
    {
     "data": {
      "text/plain": [
       "(597, 252)"
      ]
     },
     "execution_count": 140,
     "metadata": {},
     "output_type": "execute_result"
    }
   ],
   "source": [
    "# Total Target achieved and SL Hit alerts\n",
    "TA = df[df['result dummy']=='Target achieved'].shape[0]\n",
    "SL = df[df['result dummy']=='SL Hit'].shape[0]\n",
    "TA, SL"
   ]
  },
  {
   "cell_type": "code",
   "execution_count": 141,
   "metadata": {},
   "outputs": [
    {
     "data": {
      "text/plain": [
       "29"
      ]
     },
     "execution_count": 141,
     "metadata": {},
     "output_type": "execute_result"
    }
   ],
   "source": [
    "# Total stagnant alerts\n",
    "total_stagnant"
   ]
  },
  {
   "cell_type": "code",
   "execution_count": 142,
   "metadata": {},
   "outputs": [
    {
     "data": {
      "text/plain": [
       "(4, 25)"
      ]
     },
     "execution_count": 142,
     "metadata": {},
     "output_type": "execute_result"
    }
   ],
   "source": [
    "# (+)ive & (-)ive STAGNANT alerts\n",
    "n1 = df[(df['result dummy']=='STAGNANT') & (df.Type=='Bullish') & (df['15DayClose']<df.Price)].shape[0]\n",
    "p1 = df[(df['result dummy']=='STAGNANT') & (df.Type=='Bullish') & (df['15DayClose']>df.Price)].shape[0]\n",
    "\n",
    "n2 = df[(df['result dummy']=='STAGNANT') & (df.Type=='Bearish') & (df['15DayClose']>df.Price)].shape[0]\n",
    "p2 = df[(df['result dummy']=='STAGNANT') & (df.Type=='Bearish') & (df['15DayClose']<df.Price)].shape[0]\n",
    "\n",
    "p = p1 + p2\n",
    "n = n1 + n2\n",
    "p,n"
   ]
  },
  {
   "cell_type": "code",
   "execution_count": 143,
   "metadata": {},
   "outputs": [
    {
     "data": {
      "text/plain": [
       "(599.0, 264.5)"
      ]
     },
     "execution_count": 143,
     "metadata": {},
     "output_type": "execute_result"
    }
   ],
   "source": [
    "# Weightage of 0.5 to TA & SL\n",
    "TA += p*0.5\n",
    "SL += n*0.5 \n",
    "TA, SL"
   ]
  },
  {
   "cell_type": "code",
   "execution_count": 144,
   "metadata": {},
   "outputs": [
    {
     "data": {
      "text/plain": [
       "{'Target achieved': 69.37, 'SL Hit': 30.63}"
      ]
     },
     "execution_count": 144,
     "metadata": {},
     "output_type": "execute_result"
    }
   ],
   "source": [
    "stat = {'Target achieved':round(TA/(TA+SL)*100, 2), 'SL Hit':round(SL/(TA+SL)*100,2)}\n",
    "stat"
   ]
  },
  {
   "cell_type": "code",
   "execution_count": 145,
   "metadata": {},
   "outputs": [
    {
     "data": {
      "text/plain": [
       "Text(0, 0.5, '%')"
      ]
     },
     "execution_count": 145,
     "metadata": {},
     "output_type": "execute_result"
    },
    {
     "data": {
      "image/png": "[encoded data removed]",
      "text/plain": [
       "<Figure size 648x432 with 1 Axes>"
      ]
     },
     "metadata": {
      "needs_background": "light"
     },
     "output_type": "display_data"
    }
   ],
   "source": [
    "plt.figure(figsize=(9,6))\n",
    "plt.bar(stat.keys(), stat.values(), color=['forestgreen','indianred'])\n",
    "\n",
    "for i,j in enumerate(stat):\n",
    "    plt.annotate(f\"{stat[j]}%\", xy=(i-0.1, stat[j]+0.5), xycoords='data', fontsize=15)\n",
    "    \n",
    "\n",
    "plt.yticks(fontweight='bold')\n",
    "plt.xticks(fontweight='bold')\n",
    "#(axis='y', lw=0.8)\n",
    "plt.ylabel(ylabel='%', fontsize=20)"
   ]
  },
  {
   "cell_type": "markdown",
   "metadata": {},
   "source": [
    "### (T1-T3) intra comparison"
   ]
  },
  {
   "cell_type": "code",
   "execution_count": 146,
   "metadata": {},
   "outputs": [],
   "source": [
    "# TAstat = df[df.Result.isin(['T1','T2','T3'])].Result.value_counts(normalize=True) * 100\n",
    "# TAstat = TAstat.sort_index()\n",
    "\n",
    "# ax = plt.axes()\n",
    "\n",
    "# TAstat.plot(kind='bar', figsize=(10,6), color='deepskyblue')\n",
    "\n",
    "# for i,j in enumerate(TAstat.to_dict()):\n",
    "#     ax.annotate(f\"{round(TAstat[j], 2)}%\", xy=(i-0.1, TAstat[j]+0.25), xycoords='data', fontsize=15)\n",
    "\n",
    "# #(axis='y', lw=0.5)\n",
    "# ax.set_xticklabels(labels=['% alerts that did not reach T2 & T3', 'T2','T3'])\n",
    "# plt.yticks(fontweight='bold')\n",
    "# plt.xticks(rotation=0, fontweight='bold')\n",
    "# plt.ylabel(ylabel='%', fontsize=20)"
   ]
  },
  {
   "cell_type": "markdown",
   "metadata": {},
   "source": [
    "### Avg NoD"
   ]
  },
  {
   "cell_type": "code",
   "execution_count": 147,
   "metadata": {},
   "outputs": [
    {
     "data": {
      "text/plain": [
       "4.9296482412060305"
      ]
     },
     "execution_count": 147,
     "metadata": {},
     "output_type": "execute_result"
    }
   ],
   "source": [
    "# Avg no. of days needed to reach the highest target\n",
    "df[df['result dummy']=='Target achieved'].NoD.mean()"
   ]
  },
  {
   "cell_type": "markdown",
   "metadata": {},
   "source": [
    "### Bullish v/s Bearish alerts"
   ]
  },
  {
   "cell_type": "markdown",
   "metadata": {},
   "source": [
    "#### Bullish"
   ]
  },
  {
   "cell_type": "code",
   "execution_count": 148,
   "metadata": {},
   "outputs": [
    {
     "name": "stdout",
     "output_type": "stream",
     "text": [
      "710\n",
      "In actual 728, +18 that were removed as ON alerts\n"
     ]
    }
   ],
   "source": [
    "# Total bullish alerts\n",
    "bull = df[df.Type=='Bullish']\n",
    "print(bull.shape[0])\n",
    "print(f\"In actual {total_bull}, +{total_bullFO + total_bullNC + total_bullNO + total_bullRTP - bull.shape[0]} that were removed as ON alerts\")"
   ]
  },
  {
   "cell_type": "code",
   "execution_count": 149,
   "metadata": {},
   "outputs": [
    {
     "data": {
      "text/plain": [
       "(482, 201)"
      ]
     },
     "execution_count": 149,
     "metadata": {},
     "output_type": "execute_result"
    }
   ],
   "source": [
    "# Total Target achieved and SL Hit alerts in bull df\n",
    "TA = bull[bull['result dummy']=='Target achieved'].shape[0]\n",
    "SL = bull[bull['result dummy']=='SL Hit'].shape[0]\n",
    "TA, SL"
   ]
  },
  {
   "cell_type": "code",
   "execution_count": 150,
   "metadata": {},
   "outputs": [
    {
     "data": {
      "text/plain": [
       "27"
      ]
     },
     "execution_count": 150,
     "metadata": {},
     "output_type": "execute_result"
    }
   ],
   "source": [
    "# Total stagnant alerts in Bullish alerts\n",
    "bull[bull['result dummy']=='STAGNANT'].shape[0]"
   ]
  },
  {
   "cell_type": "code",
   "execution_count": 151,
   "metadata": {},
   "outputs": [
    {
     "data": {
      "text/plain": [
       "(4, 23)"
      ]
     },
     "execution_count": 151,
     "metadata": {},
     "output_type": "execute_result"
    }
   ],
   "source": [
    "# (+)ive & (-)ive STAGNANT alerts in bull df\n",
    "n = bull[(bull['result dummy']=='STAGNANT') & (bull['15DayClose']<bull.Price)].shape[0]\n",
    "p = bull[(bull['result dummy']=='STAGNANT') & (bull['15DayClose']>bull.Price)].shape[0]\n",
    "p,n"
   ]
  },
  {
   "cell_type": "code",
   "execution_count": 152,
   "metadata": {},
   "outputs": [
    {
     "data": {
      "text/plain": [
       "(484.0, 212.5)"
      ]
     },
     "execution_count": 152,
     "metadata": {},
     "output_type": "execute_result"
    }
   ],
   "source": [
    "# Weightage of 0.5 to TA & SL\n",
    "TA += p*0.5\n",
    "SL += n*0.5 \n",
    "TA, SL"
   ]
  },
  {
   "cell_type": "code",
   "execution_count": 153,
   "metadata": {},
   "outputs": [
    {
     "data": {
      "text/plain": [
       "{'Target achieved': 69.49, 'SL Hit': 30.51}"
      ]
     },
     "execution_count": 153,
     "metadata": {},
     "output_type": "execute_result"
    }
   ],
   "source": [
    "stat = {'Target achieved':round(TA/(TA+SL)*100, 2), 'SL Hit':round(SL/(TA+SL)*100,2)}\n",
    "stat"
   ]
  },
  {
   "cell_type": "code",
   "execution_count": 154,
   "metadata": {},
   "outputs": [
    {
     "data": {
      "text/plain": [
       "Text(0, 0.5, '%')"
      ]
     },
     "execution_count": 154,
     "metadata": {},
     "output_type": "execute_result"
    },
    {
     "data": {
      "image/png": "[encoded data removed]",
      "text/plain": [
       "<Figure size 648x432 with 1 Axes>"
      ]
     },
     "metadata": {
      "needs_background": "light"
     },
     "output_type": "display_data"
    }
   ],
   "source": [
    "plt.figure(figsize=(9,6))\n",
    "plt.bar(stat.keys(), stat.values(), color=['forestgreen','indianred'])\n",
    "\n",
    "for i,j in enumerate(stat):\n",
    "    plt.annotate(f\"{stat[j]}%\", xy=(i-0.1, stat[j]+0.5), xycoords='data', fontsize=15)\n",
    "    \n",
    "\n",
    "plt.yticks(fontweight='bold')\n",
    "plt.xticks(fontweight='bold')\n",
    "#(axis='y', lw=0.8)\n",
    "plt.ylabel(ylabel='%', fontsize=20)"
   ]
  },
  {
   "cell_type": "markdown",
   "metadata": {},
   "source": [
    "#### Bearish"
   ]
  },
  {
   "cell_type": "code",
   "execution_count": 155,
   "metadata": {},
   "outputs": [
    {
     "name": "stdout",
     "output_type": "stream",
     "text": [
      "168\n",
      "In actual 170, +2 that were removed as ON alerts\n"
     ]
    }
   ],
   "source": [
    "# Total bearish alerts\n",
    "bear = df[df.Type=='Bearish']\n",
    "print(bear.shape[0])\n",
    "print(f\"In actual {total_bear}, +{total_bearFO + total_bearNC + total_bearNO + total_bearRTP - bear.shape[0]} that were removed as ON alerts\")"
   ]
  },
  {
   "cell_type": "code",
   "execution_count": 156,
   "metadata": {},
   "outputs": [
    {
     "data": {
      "text/plain": [
       "(115, 51)"
      ]
     },
     "execution_count": 156,
     "metadata": {},
     "output_type": "execute_result"
    }
   ],
   "source": [
    "# Total Target achieved and SL Hit alerts in bear df\n",
    "TA = bear[bear['result dummy']=='Target achieved'].shape[0]\n",
    "SL = bear[bear['result dummy']=='SL Hit'].shape[0]\n",
    "TA, SL"
   ]
  },
  {
   "cell_type": "code",
   "execution_count": 157,
   "metadata": {},
   "outputs": [
    {
     "data": {
      "text/plain": [
       "2"
      ]
     },
     "execution_count": 157,
     "metadata": {},
     "output_type": "execute_result"
    }
   ],
   "source": [
    "# Total stagnant alerts in bearish alerts\n",
    "bear[bear['result dummy']=='STAGNANT'].shape[0]"
   ]
  },
  {
   "cell_type": "code",
   "execution_count": 158,
   "metadata": {},
   "outputs": [
    {
     "data": {
      "text/plain": [
       "(0, 2)"
      ]
     },
     "execution_count": 158,
     "metadata": {},
     "output_type": "execute_result"
    }
   ],
   "source": [
    "# (+)ive & (-)ive STAGNANT alerts in bull df\n",
    "n = bear[(bear['result dummy']=='STAGNANT') & (bear['15DayClose']>bear.Price)].shape[0]\n",
    "p = bear[(bear['result dummy']=='STAGNANT') & (bear['15DayClose']<bear.Price)].shape[0]\n",
    "p,n"
   ]
  },
  {
   "cell_type": "code",
   "execution_count": 159,
   "metadata": {},
   "outputs": [
    {
     "data": {
      "text/plain": [
       "(115.0, 52.0)"
      ]
     },
     "execution_count": 159,
     "metadata": {},
     "output_type": "execute_result"
    }
   ],
   "source": [
    "# Weightage of 0.5 to TA & SL\n",
    "TA += p*0.5\n",
    "SL += n*0.5 \n",
    "TA, SL"
   ]
  },
  {
   "cell_type": "code",
   "execution_count": 160,
   "metadata": {},
   "outputs": [
    {
     "data": {
      "text/plain": [
       "{'Target achieved': 68.86, 'SL Hit': 31.14}"
      ]
     },
     "execution_count": 160,
     "metadata": {},
     "output_type": "execute_result"
    }
   ],
   "source": [
    "stat = {'Target achieved':round(TA/(TA+SL)*100, 2), 'SL Hit':round(SL/(TA+SL)*100,2)}\n",
    "stat"
   ]
  },
  {
   "cell_type": "code",
   "execution_count": 161,
   "metadata": {},
   "outputs": [
    {
     "data": {
      "text/plain": [
       "Text(0, 0.5, '%')"
      ]
     },
     "execution_count": 161,
     "metadata": {},
     "output_type": "execute_result"
    },
    {
     "data": {
      "image/png": "[encoded data removed]",
      "text/plain": [
       "<Figure size 648x432 with 1 Axes>"
      ]
     },
     "metadata": {
      "needs_background": "light"
     },
     "output_type": "display_data"
    }
   ],
   "source": [
    "plt.figure(figsize=(9,6))\n",
    "plt.bar(stat.keys(), stat.values(), color=['forestgreen','indianred'])\n",
    "\n",
    "for i,j in enumerate(stat):\n",
    "    plt.annotate(f\"{stat[j]}%\", xy=(i-0.1, stat[j]+0.5), xycoords='data', fontsize=15)\n",
    "    \n",
    "\n",
    "plt.yticks(fontweight='bold')\n",
    "plt.xticks(fontweight='bold')\n",
    "#(axis='y', lw=0.8)\n",
    "plt.ylabel(ylabel='%', fontsize=20)"
   ]
  },
  {
   "cell_type": "markdown",
   "metadata": {},
   "source": [
    "## Monthly Analysis"
   ]
  },
  {
   "cell_type": "code",
   "execution_count": 162,
   "metadata": {},
   "outputs": [],
   "source": [
    "dfm = df.set_index('Date')"
   ]
  },
  {
   "cell_type": "code",
   "execution_count": 163,
   "metadata": {},
   "outputs": [],
   "source": [
    "months = []\n",
    "mos = pd.Series(dfm.index.to_numpy().astype('datetime64[M]')).unique()\n",
    "for mo in mos:\n",
    "    months.append(dt.datetime.date(pd.to_datetime(mo)).strftime(format=\"%b%y\"))"
   ]
  },
  {
   "cell_type": "code",
   "execution_count": 164,
   "metadata": {},
   "outputs": [],
   "source": [
    "monthly_stats = []\n",
    "monthlyTA_stats = []\n",
    "monthly_alerts = []\n",
    "for i in months:\n",
    "    month = dt.datetime.strptime(i, \"%b%y\").month                                               # current_month\n",
    "    year = dt.datetime.strptime(i, \"%b%y\").year                                                 # current_year\n",
    "    end = calendar.monthrange(year, month)[1]                      \n",
    "    current_month = dfm.loc[f\"{year}-{month}-01\":f\"{year}-{month}-{end}\"]                  # get that month's df\n",
    "    \n",
    "    monthly_alerts.append(current_month.shape[0])                                   # total alerts in current month\n",
    "    \n",
    "    # Total Target achieved and SL Hit alerts in current month\n",
    "    TA = current_month[current_month['result dummy']=='Target achieved'].shape[0]\n",
    "    SL = current_month[current_month['result dummy']=='SL Hit'].shape[0]\n",
    "    \n",
    "    # (+)ive & (-)ive STAGNANT alerts\n",
    "    n1 = current_month[(current_month['result dummy']=='STAGNANT') & (current_month.Type=='Bullish') & (current_month['15DayClose']<current_month.Price)].shape[0]\n",
    "    p1 = current_month[(current_month['result dummy']=='STAGNANT') & (current_month.Type=='Bullish') & (current_month['15DayClose']>current_month.Price)].shape[0]\n",
    "\n",
    "    n2 = current_month[(current_month['result dummy']=='STAGNANT') & (current_month.Type=='Bearish') & (current_month['15DayClose']>current_month.Price)].shape[0]\n",
    "    p2 = current_month[(current_month['result dummy']=='STAGNANT') & (current_month.Type=='Bearish') & (current_month['15DayClose']<current_month.Price)].shape[0]\n",
    "\n",
    "    p = p1 + p2\n",
    "    n = n1 + n2\n",
    "    \n",
    "    # Weightage of 0.5 to TA & SL\n",
    "    TA += p*0.5\n",
    "    SL += n*0.5 \n",
    "    \n",
    "    current_stat = {'Target achieved':round(TA/(TA+SL)*100, 2), 'SL Hit':round(SL/(TA+SL)*100,2)}\n",
    "    monthly_stats.append(current_stat)\n",
    "    \n",
    "#     TAstat = current_month[current_month.Result.isin(['T1','T2','T3'])].Result.value_counts(normalize=True) * 100\n",
    "#     if len(TAstat.index)<3:\n",
    "#         y = ['T1','T2','T3']\n",
    "#         TAstat[list(set(y).difference(set(TAstat.index)))[0]] = 0.0\n",
    "#     TAstat = TAstat.sort_index()\n",
    "#     monthlyTA_stats.append(TAstat)"
   ]
  },
  {
   "cell_type": "markdown",
   "metadata": {},
   "source": [
    "### Line chart"
   ]
  },
  {
   "cell_type": "code",
   "execution_count": 165,
   "metadata": {},
   "outputs": [],
   "source": [
    "line_data = ([x['Target achieved'] for x in monthly_stats]), ([x['SL Hit'] for x in monthly_stats])"
   ]
  },
  {
   "cell_type": "code",
   "execution_count": 166,
   "metadata": {},
   "outputs": [
    {
     "data": {
      "image/png": "[encoded data removed]",
      "text/plain": [
       "<Figure size 720x432 with 2 Axes>"
      ]
     },
     "metadata": {
      "needs_background": "light"
     },
     "output_type": "display_data"
    }
   ],
   "source": [
    "fig, ax = plt.subplots(figsize=(10,6))\n",
    "ax.set_facecolor('white')\n",
    "\n",
    "ax.plot(months, line_data[0], marker='o', color='darkgreen')\n",
    "ax.plot(months, line_data[1], marker='o', color='red')\n",
    "ax.grid(axis='y', lw=0.25)\n",
    "#ax.set_ylim(0, 100)\n",
    "ax.set_title(f'Totals alerts in {months[-1]}: {monthly_alerts[-1] + len(ons1) + len(ons2) + len(ons3) + len(ons4)}; OPEN alerts: {len(ons1) + len(ons2) + len(ons3) + len(ons4)}')\n",
    "\n",
    "for i,j in enumerate(line_data[0]):\n",
    "    ax.annotate(s=f'{round(j,2)}', xy=(i-0.1, j-3), xycoords='data', fontsize=11, color='darkgreen')\n",
    "    \n",
    "for i,j in enumerate(line_data[1]):\n",
    "    ax.annotate(s=f'{round(j,2)}', xy=(i-0.1, j-3), xycoords='data', fontsize=11, color='red')\n",
    "\n",
    "ax.legend(['Target achieved %', 'SL Hit %'], loc='best', facecolor='white')\n",
    "ax.set_xticklabels(labels = months, fontweight='bold')\n",
    "ax.set_ylabel('Target & SL Hit in %', fontsize=16)\n",
    "\n",
    "ax2 = ax.twinx()\n",
    "ax2.plot(months, monthly_alerts, marker='o')\n",
    "ax2.set_ylabel('No. of alerts', fontsize=14, rotation=-90, labelpad=13)\n",
    "ax2.legend(labels=['# of closed alerts'], loc='lower right', facecolor='white')\n",
    "\n",
    "for i,j in enumerate(monthly_alerts):\n",
    "    ax2.annotate(s=j, xy=(i, j+0.4), xycoords='data', fontsize=11, color='blue')"
   ]
  },
  {
   "cell_type": "code",
   "execution_count": 167,
   "metadata": {
    "scrolled": false
   },
   "outputs": [],
   "source": [
    "# fig, ax = plt.subplots(figsize=(10,7))\n",
    "# ax.set_facecolor('white')\n",
    "\n",
    "# ax.plot(months, np.array(monthlyTA_stats)[:, 0], marker='o', color='darkgreen')\n",
    "# ax.plot(months, np.array(monthlyTA_stats)[:, 1], marker='o', color='saddlebrown')\n",
    "# ax.plot(months, np.array(monthlyTA_stats)[:, 2], marker='o', color='darkslategrey')\n",
    "# ax.grid(axis='y', lw=0.3)\n",
    "# #ax.set_ylim(0, 100)\n",
    "\n",
    "# for i,j in enumerate(np.array(monthlyTA_stats)):\n",
    "#     ax.annotate(s=f'{round(j[0],2)}', xy=(i-0.1, j[0]+1), xycoords='data', fontsize=11, color='darkgreen')\n",
    "#     ax.annotate(s=f'{round(j[1],2)}', xy=(i-0.1, j[1]+1), xycoords='data', fontsize=11, color='saddlebrown')    \n",
    "#     ax.annotate(s=f'{round(j[2],2)}', xy=(i-0.1, j[2]+1), xycoords='data', fontsize=11, color='darkslategrey')  \n",
    "    \n",
    "# ax.legend(['% alerts that did not hit T2 & T3', 'T2', 'T3'], loc='best', bbox_to_anchor=(0.5, 1), facecolor='white')\n",
    "# ax.set_xticklabels(labels = months, fontweight='bold')\n",
    "# ax.set_ylabel('alerts that hit T1/T2/T3 in % of Total Target achieved', fontsize=12)"
   ]
  },
  {
   "cell_type": "code",
   "execution_count": null,
   "metadata": {},
   "outputs": [],
   "source": []
  }
 ],
 "metadata": {
  "kernelspec": {
   "display_name": "Python 3",
   "language": "python",
   "name": "python3"
  },
  "language_info": {
   "codemirror_mode": {
    "name": "ipython",
    "version": 3
   },
   "file_extension": ".py",
   "mimetype": "text/x-python",
   "name": "python",
   "nbconvert_exporter": "python",
   "pygments_lexer": "ipython3",
   "version": "3.8.3"
  }
 },
 "nbformat": 4,
 "nbformat_minor": 4
}
