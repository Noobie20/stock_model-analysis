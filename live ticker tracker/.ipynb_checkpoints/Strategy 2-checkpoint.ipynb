{
 "cells": [
  {
   "cell_type": "markdown",
   "metadata": {},
   "source": [
    "## Notes"
   ]
  },
  {
   "cell_type": "markdown",
   "metadata": {},
   "source": [
    "1. verify if all the code is working correctly { }\n",
    "2. write code for push the update df back to Google Sheets {O}\n",
    "3. check if fyers api provides right data (ohlc) <b>during market hrs</b> { }\n",
    "4. Time difference b/w the server that this script will be hosted on and IST. (Will need to update code accordingly)"
   ]
  },
  {
   "cell_type": "markdown",
   "metadata": {},
   "source": [
    "## Columns to update: (strategy2)"
   ]
  },
  {
   "cell_type": "code",
   "execution_count": null,
   "metadata": {},
   "outputs": [],
   "source": [
    "# (Assuming Bullish)\n",
    "# Buy Call + Sell Call\n",
    "\n",
    "# ----Irrespective of Status (UE)---                            \n",
    "\n",
    "# stock_cmp                                                 \n",
    "# opt1_cmp\n",
    "# opt2_cmp\n",
    "# opt1_plue                                    |    (CMP - entry)\n",
    "# opt2_plue                                    |    (entry - CMP)\n",
    "# total_plue                                   |    opt_plue + fut_plue\n",
    "\n",
    "# -----Based on Status-----\n",
    "\n",
    "# -> status\n",
    "# -> opt1_exit_price                           |    (None) if Status==ACTIVE else (opt1_price at the time of T1 Hit*)\n",
    "# -> opt2_exit_price                           |    (None) if Status==ACTIVE else (opt2_price at the time of T1 Hit*)\n",
    "\n",
    "# --> opt1_pl                                  |    (CMP - entry) if Status==ACTIVE else (opt1_exit_price - entry)\n",
    "# --> opt2_pl                                  |    (entry - CMP) if Status==ACTIVE else (entry - opt2_exit_price)\n",
    "# --> total_pl                                 |    opt1_pl + opt2_pl\n",
    "\n",
    "\n",
    "\n",
    "\n",
    "\n",
    "# (Assuming Bearish)\n",
    "# Buy Put + Sell Put\n",
    "\n",
    "# ----Irrespective of Status (UE) --                            \n",
    "\n",
    "# stock_cmp                                                 \n",
    "# opt1_cmp\n",
    "# opt2_cmp\n",
    "# opt1_plue                                    |    (CMP - entry)\n",
    "# opt2_plue                                    |    (entry - CMP)\n",
    "# total_plue                                   |    opt_plue + fut_plue\n",
    "\n",
    "\n",
    "# -----Based on Status ----\n",
    "\n",
    "# -> status\n",
    "# -> opt1_exit_price                           |    (None) if Status==ACTIVE else (opt1_price at the time of T1 Hit*)\n",
    "# -> opt2_exit_price                           |    (None) if Status==ACTIVE else (opt2_price at the time of T1 Hit*)\n",
    "\n",
    "# --> opt1_pl                                  |    (CMP - entry) if Status==ACTIVE else (opt1_exit_price - entry)\n",
    "# --> opt2_pl                                  |    (entry - CMP) if Status==ACTIVE else (entry - opt2_exit_price)\n",
    "# --> total_pl                                 |    opt1_pl + opt2_pl\n",
    "\n",
    "# *The exact price of of opt1 & opt2 at the time of T1 hit cannot be obtained because the script runs once every 15 min,\n",
    "# therefore, instead of the exact price of opt1/2 at the time of T1 hit, we use the high's & low's of previous\n",
    "# 15 min candle and assume them as the exit price. This should not affect the P&L too much as there won't be much \n",
    "# fluctuation b/w the high/low and the exact price of opt1/2 at time of T1 hit (which will obviously be < 15 min)."
   ]
  },
  {
   "cell_type": "markdown",
   "metadata": {},
   "source": [
    "## Calculating Exit Price (Strategy 2)"
   ]
  },
  {
   "cell_type": "code",
   "execution_count": null,
   "metadata": {},
   "outputs": [],
   "source": [
    "# Bullish (Buy Call + Sell Call)\n",
    "# T1      (Max profit + max loss)\n",
    "# stock  10:00|----^------------------|10:15 am\n",
    "# OPT1   10:00|------^----------------|10:15 pm (PROFIT)\n",
    "# OPT2   10:00|----------^------------|10:15 pm (LOSS)\n",
    "\n",
    "\n",
    "# SL      (max profit + max loss)\n",
    "# stock  10:00|----\\/-----------------|10:15 am\n",
    "# OPT1   10:00|-------\\/--------------|10:15 pm (LOSS)\n",
    "# OPT2   10:00|----------\\/-----------|10:15 pm (PROFIT)\n",
    "\n",
    "# Bearish (Buy Put + Sell Put)\n",
    "# T1      (Max profit + max loss)\n",
    "# stock  10:00|----\\/----------------|10:15 am\n",
    "# OPT1   10:00|------^---------------|10:15 pm (PROFIT)\n",
    "# OPT2   10:00|----------^-----------|10:15 pm (LOSS)\n",
    "\n",
    "\n",
    "# SL      (max profit + max loss)\n",
    "# stock  10:00|----^-----------------|10:15 am\n",
    "# OPT1   10:00|-------\\/-------------|10:15 pm (LOSS)\n",
    "# OPT2   10:00|----------\\/----------|10:15 pm (PROFIT)"
   ]
  },
  {
   "cell_type": "code",
   "execution_count": 1,
   "metadata": {},
   "outputs": [],
   "source": [
    "def get_active_data(df):\n",
    "    return df[df.Status.isin(['ACTIVE','T1 Hit','SL Hit'])]"
   ]
  },
  {
   "cell_type": "code",
   "execution_count": 2,
   "metadata": {},
   "outputs": [],
   "source": [
    "def update_status(df):\n",
    "    for i, row in df.iterrows():\n",
    "        if dt.date.today() == dt.datetime.strptime(row['Expiry'], '%d%b%Y').date():\n",
    "            df.loc[i, 'Status'] = 'Expired'"
   ]
  },
  {
   "cell_type": "code",
   "execution_count": 3,
   "metadata": {},
   "outputs": [],
   "source": [
    "# For strategy1\n",
    "# updates data inplace (not good coding practice)\n",
    "def Master(df):\n",
    "    today = dt.datetime.strftime(dt.datetime.today(), format=\"%Y-%m-%d\")\n",
    "    \n",
    "    for ind, row in df.iterrows():\n",
    "        if row[\"Status\"]!='Expired':\n",
    "        \n",
    "            if row['Type']=='Bullish':\n",
    "                Get_bull(ind, row, today)\n",
    "\n",
    "            else:\n",
    "                Get_bear(ind, row, today)"
   ]
  },
  {
   "cell_type": "code",
   "execution_count": null,
   "metadata": {},
   "outputs": [],
   "source": [
    "# candles = [tstmp O H L C V]"
   ]
  },
  {
   "cell_type": "code",
   "execution_count": null,
   "metadata": {},
   "outputs": [],
   "source": [
    "def Get_bull(ind, row, today):\n",
    "    # Get data \n",
    "    hs_data = {\"symbol\": f\"NSE:{row['Stock']}-EQ\", \"resolution\":\"15\", \"date_format\":\"1\", \"range_from\":today, \"range_to\":today, \"cont_flag\":\"1\"}\n",
    "    ho_data = {\"symbol\": f\"NSE:{row['Ticker Name OPT1']}\", \"resolution\":\"15\", \"date_format\":\"1\", \"range_from\":today, \"range_to\":today, \"cont_flag\":\"1\"}\n",
    "    hf_data = {\"symbol\": f\"NSE:{row['Ticker Name OPT2']}\", \"resolution\":\"15\", \"date_format\":\"1\", \"range_from\":today, \"range_to\":today, \"cont_flag\":\"1\"}\n",
    "    hs = fyers.history(hs_data)\n",
    "    ho = fyers.history(ho_data)\n",
    "    hf = fyers.history(hf_data)\n",
    "\n",
    "    try:\n",
    "        sres = hs['candles'][-1]\n",
    "        ores = ho['candles'][-1]\n",
    "        o2res = hf['candles'][-1]\n",
    "    except:\n",
    "        print(f\"api response not ok for Trade ID {row['Trade ID']}\")\n",
    "    \n",
    "    # update common columns\n",
    "    df.loc[ind, 'Stock CMP'] = sres[4]\n",
    "    df.loc[ind, 'Current Price OPT1'] = ores[4]\n",
    "    df.loc[ind, 'Current Price OPT2'] = o2res[4]\n",
    "    df.loc[ind, 'P&L OPT1 (UE)'] = (ores[4] - row['Entry Price OPT1']) * row['Lot Size']\n",
    "    df.loc[ind, 'P&L OPT2 (UE)'] = (row['Entry Price OPT2'] - o2res[4]) * row['Lot Size']\n",
    "    df.loc[ind, 'Total P&L (UE)'] = df.loc[ind, 'P&L OPT1 (UE)'] + df.loc[ind, 'P&L OPT2 (UE)']\n",
    "    \n",
    "    # update if alert is active\n",
    "    if row['Status']=='ACTIVE':\n",
    "        Evaluate_active_bull(ind, row, sres, ores, o2res)"
   ]
  },
  {
   "cell_type": "code",
   "execution_count": null,
   "metadata": {},
   "outputs": [],
   "source": [
    "def Evaluate_active_bull(ind, row, sres, ores, o2res):\n",
    "    \n",
    "    # check/update status\n",
    "    if sres[2] >= row['T1']:                                                       # [2] => high_price\n",
    "        df.loc[ind, 'Status'] = 'T1 Hit'\n",
    "        df.loc[ind, 'Exit Price OPT1'] = ores[2]                                    \n",
    "        df.loc[ind, 'Exit Price OPT2'] = o2res[2]                                    \n",
    "\n",
    "    elif sres[3] <= row['SL']:                                                     # [3]=> low_price\n",
    "        df.loc[ind, 'Status'] = 'SL Hit'\n",
    "        df.loc[ind, 'Exit Price OPT1'] = ores[3]                                    \n",
    "        df.loc[ind, 'Exit Price OPT2'] = o2res[3]                                    \n",
    "    \n",
    "    # Calculate P&L\n",
    "    if df.loc[ind, 'Status']=='ACTIVE':                                            # If T1/SL is still not hit\n",
    "        df.loc[ind, 'P&L OPT1'] = df.loc[ind, 'P&L OPT1 (UE)']\n",
    "        df.loc[ind, 'P&L OPT2'] = df.loc[ind, 'P&L OPT2 (UE)']                  \n",
    "\n",
    "    else:                                                                          # If T1/SL hit\n",
    "        df.loc[ind, 'P&L OPT1'] = (df.loc[ind, 'Exit Price OPT1'] - row['Entry Price OPT1']) * row['Lot Size']                 \n",
    "        df.loc[ind, 'P&L OPT2'] = (row['Entry Price OPT2'] - df.loc[ind, 'Exit Price OPT2']) * row['Lot Size']\n",
    "\n",
    "    df.loc[ind, 'Total P&L'] = df.loc[ind, 'P&L OPT1'] + df.loc[ind, 'P&L OPT2']"
   ]
  },
  {
   "cell_type": "code",
   "execution_count": null,
   "metadata": {},
   "outputs": [],
   "source": [
    "def Get_bear(ind, row, today):\n",
    "    # Get data \n",
    "    hs_data = {\"symbol\": f\"NSE:{row['Stock']}-EQ\", \"resolution\":\"15\", \"date_format\":\"1\", \"range_from\":today, \"range_to\":today, \"cont_flag\":\"1\"}\n",
    "    ho_data = {\"symbol\": f\"NSE:{row['Ticker Name OPT1']}\", \"resolution\":\"15\", \"date_format\":\"1\", \"range_from\":today, \"range_to\":today, \"cont_flag\":\"1\"}\n",
    "    hf_data = {\"symbol\": f\"NSE:{row['Ticker Name OPT2']}\", \"resolution\":\"15\", \"date_format\":\"1\", \"range_from\":today, \"range_to\":today, \"cont_flag\":\"1\"}\n",
    "    hs = fyers.history(hs_data)\n",
    "    ho = fyers.history(ho_data)\n",
    "    hf = fyers.history(hf_data)\n",
    "\n",
    "    try:\n",
    "        sres = hs['candles'][-1]\n",
    "        ores = ho['candles'][-1]\n",
    "        o2res = hf['candles'][-1]\n",
    "    except:\n",
    "        print(f\"api response not ok for Trade ID {row['Trade ID']}\")\n",
    "    \n",
    "    # update common columns\n",
    "    df.loc[ind, 'Stock CMP'] = sres[4] \n",
    "    df.loc[ind, 'Current Price OPT1'] = ores[4]\n",
    "    df.loc[ind, 'Current Price OPT2'] = o2res[4]\n",
    "    df.loc[ind, 'P&L OPT1 (UE)'] = (ores[4] - row['Entry Price OPT1']) * row['Lot Size']\n",
    "    df.loc[ind, 'P&L OPT2 (UE)'] = (row['Entry Price OPT2'] - o2res[4]) * row['Lot Size']\n",
    "    df.loc[ind, 'Total P&L (UE)'] = df.loc[ind, 'P&L OPT1 (UE)'] + df.loc[ind, 'P&L OPT2 (UE)']\n",
    "    \n",
    "    # update if alert is active\n",
    "    if row['Status']=='ACTIVE':\n",
    "        Evaluate_active_bear(ind, row, sres, ores, o2res)"
   ]
  },
  {
   "cell_type": "code",
   "execution_count": null,
   "metadata": {},
   "outputs": [],
   "source": [
    "def Evaluate_active_bear(ind, row, sres, ores, o2res):\n",
    "    \n",
    "    # check/update status\n",
    "    if sres[3] <= row['T1']:                                       # [3] => low_price \n",
    "        df.loc[ind, 'Status'] = 'T1 Hit'\n",
    "        df.loc[ind, 'Exit Price OPT1'] = ores[2]                     \n",
    "        df.loc[ind, 'Exit Price OPT2'] = o2res[2]                    \n",
    "\n",
    "    elif sres[2] >= row['SL']:                                      # [2] => high_price\n",
    "        df.loc[ind, 'Status'] = 'SL Hit'\n",
    "        df.loc[ind, 'Exit Price OPT1'] = ores[3]                     \n",
    "        df.loc[ind, 'Exit Price OPT2'] = o2res[3]                     \n",
    "    \n",
    "    # Calculate P&L\n",
    "    if df.loc[ind, 'Status']=='ACTIVE':                                            # If T1/SL is still not hit\n",
    "        df.loc[ind, 'P&L OPT1'] = df.loc[ind, 'P&L OPT1(UE)']\n",
    "        df.loc[ind, 'P&L OPT2'] = df.loc[ind, 'P&L OPT2 (UE)']                 \n",
    "\n",
    "    else:                                                                          # If T1/SL hit\n",
    "        df.loc[ind, 'P&L OPT1'] = (df.loc[ind, 'Exit Price OPT1'] - row['Entry Price OPT1']) * row['Lot Size']                   \n",
    "        df.loc[ind, 'P&L OPT2'] = (row['Entry Price OPT2'] - df.loc[ind, 'Exit Price OPT2']) * row['Lot Size']\n",
    "\n",
    "    df.loc[ind, 'Total P&L'] = df.loc[ind, 'P&L OPT1'] + df.loc[ind, 'P&L OPT2']"
   ]
  },
  {
   "cell_type": "markdown",
   "metadata": {},
   "source": [
    "## Update Google Sheets"
   ]
  },
  {
   "cell_type": "code",
   "execution_count": null,
   "metadata": {},
   "outputs": [],
   "source": [
    "def push_changes(sheet, df):\n",
    "    values = df.values.tolist()\n",
    "    for value in values:\n",
    "        try:\n",
    "            cell = sheet.find(str(value[0]), in_column=0)\n",
    "            a1 = cell.address\n",
    "            r = cell.row\n",
    "            sheet.update(f\"{a1}:AA{r}\", [value])\n",
    "            \n",
    "        except:\n",
    "            print(f\"error updating row with Trade ID: {value[0]}\")"
   ]
  }
 ],
 "metadata": {
  "kernelspec": {
   "display_name": "Python 3",
   "language": "python",
   "name": "python3"
  },
  "language_info": {
   "codemirror_mode": {
    "name": "ipython",
    "version": 3
   },
   "file_extension": ".py",
   "mimetype": "text/x-python",
   "name": "python",
   "nbconvert_exporter": "python",
   "pygments_lexer": "ipython3",
   "version": "3.8.3"
  }
 },
 "nbformat": 4,
 "nbformat_minor": 4
}
